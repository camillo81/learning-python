{
 "cells": [
  {
   "cell_type": "markdown",
   "metadata": {},
   "source": [
    "$$\n",
    "% transferring macros:\n",
    "\\let\\eps\\varepsilon\n",
    "\\let\\wt\\widetilde\n",
    "\\let\\tn\\mathrm\n",
    "\\let\\vphi\\varphi\n",
    "\\let\\pa\\partial\n",
    "\\let\\para\\parallel\n",
    "\\let\\wh\\widehat\n",
    "\\let\\sl\\shoveleft\n",
    "% defining new macros:\n",
    "\\def\\be{\\begin{equation} \\mskip 1cm}\n",
    "\\def\\ee{\\end{equation}}\n",
    "\\def\\ba{\\begin{align} \\mskip 1cm}\n",
    "\\def\\ea{\\end{align}}\n",
    "\\def\\RR{{\\bf R}}\n",
    "% defining new commands:\n",
    "\\newcommand{\\abs}[1]{\\lvert#1\\rvert}\n",
    "$$"
   ]
  },
  {
   "cell_type": "markdown",
   "metadata": {},
   "source": [
    "# This is my first notebook.\n",
    "\n",
    "We will discretize Poisson's equation, in its primal form $\\RR$,\n",
    "\n",
    "$$\n",
    "\\be\n",
    " \\RR \\wt\\eps = \\vphi - \\abs \\phi + \\pa \\wh v_\\para\\,,\n",
    "\\ee\n",
    "$$\n",
    "\n",
    "and in the mixed form,\n",
    "\n",
    "$$\n",
    "\\be\n",
    "\\begin{aligned}\n",
    " \\nabla \\cdot E &= \\rho\\,,  \\\\[1mm]\n",
    "  E &= -\\nabla \\phi\\,,\n",
    "  \\\\[1mm]\n",
    "  \\nabla \\times B &= j\\,,\n",
    "\\end{aligned}\n",
    "\\ee\n",
    "$$\n",
    "\n",
    "and so on. If there is more text, then \n",
    "\n",
    "$$\n",
    "\\ba\n",
    "\\nabla \\cdot E &= \\rho\\,,   \n",
    "  \\\\[1mm]\n",
    "  E &= -\\nabla \\phi\\,, \n",
    "  \\\\[1mm]\n",
    "  \\nabla \\times B &= j\\,,\n",
    "\\ea\n",
    "$$"
   ]
  },
  {
   "cell_type": "markdown",
   "metadata": {},
   "source": [
    "Here is some text,\n",
    "\\begin{equation}\n",
    " 2+3 = 5\\,,\n",
    "\\end{equation}\n",
    "followed by some more text,\n",
    "$$\\be\n",
    " 2+3 = 5\\,,\n",
    "\\ee$$\n",
    "followed by some more text."
   ]
  },
  {
   "cell_type": "code",
   "execution_count": 2,
   "metadata": {
    "scrolled": true
   },
   "outputs": [
    {
     "name": "stdout",
     "output_type": "stream",
     "text": [
      "/Users/possanner/.ipython/profile_default\r\n"
     ]
    }
   ],
   "source": [
    "!ipython profile locate default\n"
   ]
  },
  {
   "cell_type": "code",
   "execution_count": 3,
   "metadata": {},
   "outputs": [
    {
     "name": "stdout",
     "output_type": "stream",
     "text": [
      "[ProfileCreate] Generating default config file: '/Users/possanner/.ipython/profile_my_profile/ipython_config.py'\r\n",
      "[ProfileCreate] Generating default config file: '/Users/possanner/.ipython/profile_my_profile/ipython_kernel_config.py'\r\n"
     ]
    }
   ],
   "source": [
    "!ipython profile create my_profile\n",
    "\n"
   ]
  },
  {
   "cell_type": "code",
   "execution_count": 4,
   "metadata": {},
   "outputs": [
    {
     "name": "stdout",
     "output_type": "stream",
     "text": [
      "/Users/possanner/.ipython/profile_my_profile\r\n"
     ]
    }
   ],
   "source": [
    "!ipython profile locate my_profile\n",
    "\n"
   ]
  },
  {
   "cell_type": "code",
   "execution_count": 5,
   "metadata": {},
   "outputs": [
    {
     "name": "stdout",
     "output_type": "stream",
     "text": [
      "[ProfileCreate] Generating default config file: '/Users/possanner/.ipython/profile_default/ipython_config.py'\n",
      "[ProfileCreate] Generating default config file: '/Users/possanner/.ipython/profile_default/ipython_kernel_config.py'\n"
     ]
    }
   ],
   "source": [
    "!ipython profile create\n"
   ]
  },
  {
   "cell_type": "code",
   "execution_count": 1,
   "metadata": {},
   "outputs": [
    {
     "data": {
      "text/plain": [
       "'/Users/possanner/.jupyter'"
      ]
     },
     "execution_count": 1,
     "metadata": {},
     "output_type": "execute_result"
    }
   ],
   "source": [
    "from jupyter_core.paths import jupyter_config_dir\n",
    "jupyter_dir = jupyter_config_dir()\n",
    "jupyter_dir\n",
    "\n"
   ]
  },
  {
   "cell_type": "code",
   "execution_count": 2,
   "metadata": {},
   "outputs": [],
   "source": [
    "import os.path\n",
    "custom_js_path = os.path.join(jupyter_dir, 'custom', 'custom.js')"
   ]
  },
  {
   "cell_type": "code",
   "execution_count": 3,
   "metadata": {},
   "outputs": [
    {
     "name": "stdout",
     "output_type": "stream",
     "text": [
      "You don't have a custom.js file\n"
     ]
    }
   ],
   "source": [
    "#  my custom js\n",
    "if os.path.isfile(custom_js_path):\n",
    "    with open(custom_js_path) as f:\n",
    "        print(f.read())\n",
    "else:\n",
    "    print(\"You don't have a custom.js file\")"
   ]
  },
  {
   "cell_type": "code",
   "execution_count": 1,
   "metadata": {},
   "outputs": [
    {
     "data": {
      "text/plain": [
       "5"
      ]
     },
     "execution_count": 1,
     "metadata": {},
     "output_type": "execute_result"
    }
   ],
   "source": [
    "2+3"
   ]
  },
  {
   "cell_type": "code",
   "execution_count": null,
   "metadata": {},
   "outputs": [],
   "source": []
  }
 ],
 "metadata": {
  "kernelspec": {
   "display_name": "Python 3",
   "language": "python",
   "name": "python3"
  },
  "language_info": {
   "codemirror_mode": {
    "name": "ipython",
    "version": 3
   },
   "file_extension": ".py",
   "mimetype": "text/x-python",
   "name": "python",
   "nbconvert_exporter": "python",
   "pygments_lexer": "ipython3",
   "version": "3.6.5"
  }
 },
 "nbformat": 4,
 "nbformat_minor": 2
}
