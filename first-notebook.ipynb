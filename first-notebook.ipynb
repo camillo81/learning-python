{
 "cells": [
  {
   "cell_type": "markdown",
   "metadata": {},
   "source": [
    "# First notebook/IPython infos "
   ]
  },
  {
   "cell_type": "markdown",
   "metadata": {},
   "source": [
    "## Tex macros defined below (hidden)\n",
    "$$\n",
    "% transferring macros:\n",
    "\\let\\eps\\varepsilon\n",
    "\\let\\wt\\widetilde\n",
    "\\let\\tn\\mathrm\n",
    "\\let\\vphi\\varphi\n",
    "\\let\\pa\\partial\n",
    "\\let\\para\\parallel\n",
    "\\let\\wh\\widehat\n",
    "\\let\\sl\\shoveleft\n",
    "% defining new macros:\n",
    "\\def\\be{\\begin{equation} \\mskip 1cm}\n",
    "\\def\\ee{\\end{equation}}\n",
    "\\def\\ba{\\begin{align} \\mskip 1cm}\n",
    "\\def\\ea{\\end{align}}\n",
    "\\def\\RR{{\\bf R}}\n",
    "% defining new commands:\n",
    "\\newcommand{\\abs}[1]{\\lvert#1\\rvert}\n",
    "$$"
   ]
  },
  {
   "cell_type": "markdown",
   "metadata": {},
   "source": [
    "### Testing LaTex\n",
    "\n",
    "We will discretize Poisson's equation, in its primal form $\\RR$,\n",
    "\n",
    "$$\n",
    "\\be\n",
    " \\RR \\wt\\eps = \\vphi - \\abs \\phi + \\pa \\wh v_\\para\\,, \n",
    "\\ee\n",
    "$$\n",
    "\n",
    "and in the mixed form,\n",
    "\n",
    "$$\n",
    "\\be\n",
    "\\begin{aligned}\n",
    " \\nabla \\cdot E &= \\rho\\,,  \\\\[1mm]\n",
    "  E &= -\\nabla \\phi\\,,\n",
    "  \\\\[1mm]\n",
    "  \\nabla \\times B &= j\\,,\n",
    "\\end{aligned}\n",
    "\\ee\n",
    "$$\n",
    "\n",
    "and so on. If there is more text, then \n",
    "\n",
    "$$\n",
    "\\ba\n",
    "\\nabla \\cdot E &= \\rho\\,,   \n",
    "  \\\\[1mm]\n",
    "  E &= -\\nabla \\phi\\,, \n",
    "  \\\\[1mm]\n",
    "  \\nabla \\times B &= j\\,,\n",
    "\\ea\n",
    "$$"
   ]
  },
  {
   "cell_type": "markdown",
   "metadata": {},
   "source": [
    "Here is some text,\n",
    "\\begin{equation}\n",
    " 2+3 = 5\\,,\n",
    "\\end{equation}\n",
    "followed by some more text,\n",
    "$$\\be\n",
    " 2+3 = 5\\,,\n",
    "\\ee$$\n",
    "followed by some more text."
   ]
  },
  {
   "cell_type": "code",
   "execution_count": 1,
   "metadata": {},
   "outputs": [
    {
     "name": "stdout",
     "output_type": "stream",
     "text": [
      "/bin/sh: -c: line 0: syntax error near unexpected token `pics/deRham.png'\r\n",
      "/bin/sh: -c: line 0: `[pics/deRham.png](pics/deRham.png)'\r\n"
     ]
    }
   ],
   "source": [
    "![pics/deRham.png](pics/deRham.png)"
   ]
  },
  {
   "cell_type": "markdown",
   "metadata": {},
   "source": [
    "##  IPython config file"
   ]
  },
  {
   "cell_type": "code",
   "execution_count": 54,
   "metadata": {
    "scrolled": true
   },
   "outputs": [
    {
     "name": "stdout",
     "output_type": "stream",
     "text": [
      "/Users/possanner/.ipython/profile_default\r\n"
     ]
    }
   ],
   "source": [
    "!ipython profile locate default\n"
   ]
  },
  {
   "cell_type": "code",
   "execution_count": 55,
   "metadata": {},
   "outputs": [],
   "source": [
    "!ipython profile create my_profile\n",
    "\n"
   ]
  },
  {
   "cell_type": "code",
   "execution_count": 56,
   "metadata": {},
   "outputs": [
    {
     "name": "stdout",
     "output_type": "stream",
     "text": [
      "/Users/possanner/.ipython/profile_my_profile\r\n"
     ]
    }
   ],
   "source": [
    "!ipython profile locate my_profile\n",
    "\n"
   ]
  },
  {
   "cell_type": "code",
   "execution_count": 57,
   "metadata": {},
   "outputs": [],
   "source": [
    "!ipython profile create\n"
   ]
  },
  {
   "cell_type": "code",
   "execution_count": 5,
   "metadata": {},
   "outputs": [
    {
     "data": {
      "text/plain": [
       "'/home/spossann/.jupyter'"
      ]
     },
     "execution_count": 5,
     "metadata": {},
     "output_type": "execute_result"
    }
   ],
   "source": [
    "from jupyter_core.paths import jupyter_config_dir\n",
    "jupyter_dir = jupyter_config_dir()\n",
    "jupyter_dir\n",
    "\n"
   ]
  },
  {
   "cell_type": "code",
   "execution_count": 6,
   "metadata": {},
   "outputs": [],
   "source": [
    "import os.path\n",
    "custom_js_path = os.path.join(jupyter_dir, 'custom', 'custom.js')"
   ]
  },
  {
   "cell_type": "code",
   "execution_count": 7,
   "metadata": {},
   "outputs": [
    {
     "name": "stdout",
     "output_type": "stream",
     "text": [
      "MathJax.Hub.Config({\n",
      "  TeX: { \n",
      "         Macros: { RR: \"{RRRRR}\",\n",
      "                   bold: [\"{\\\\boldsymbol #1}\",1]\n",
      "                 },\n",
      "         equationNumbers: { autoNumber: \"AMS\" },\n",
      "         TagSide: \"left\",\n",
      "         MultLineWidth: \"85%\",\n",
      "         extensions: [\"autoload-all.js\"]\n",
      "       },\n",
      "  jax: [\"input/TeX\",\"output/HTML-CSS\"],\n",
      "  displayAlign: \"left\" \n",
      "});\n",
      "\n"
     ]
    }
   ],
   "source": [
    "#  my custom js\n",
    "if os.path.isfile(custom_js_path):\n",
    "    with open(custom_js_path) as f:\n",
    "        print(f.read())\n",
    "else:\n",
    "    print(\"You don't have a custom.js file\")"
   ]
  },
  {
   "cell_type": "markdown",
   "metadata": {},
   "source": [
    "## Basic python commands "
   ]
  },
  {
   "cell_type": "code",
   "execution_count": 61,
   "metadata": {},
   "outputs": [],
   "source": [
    "dir?"
   ]
  },
  {
   "cell_type": "code",
   "execution_count": 62,
   "metadata": {},
   "outputs": [
    {
     "data": {
      "text/plain": [
       "['In',\n",
       " 'Out',\n",
       " '_',\n",
       " '_1',\n",
       " '_12',\n",
       " '_16',\n",
       " '_17',\n",
       " '_23',\n",
       " '_25',\n",
       " '_26',\n",
       " '_27',\n",
       " '_28',\n",
       " '_29',\n",
       " '_31',\n",
       " '_32',\n",
       " '_33',\n",
       " '_34',\n",
       " '_37',\n",
       " '_38',\n",
       " '_39',\n",
       " '_4',\n",
       " '_40',\n",
       " '_41',\n",
       " '_43',\n",
       " '_45',\n",
       " '_46',\n",
       " '_49',\n",
       " '_50',\n",
       " '_51',\n",
       " '_53',\n",
       " '_58',\n",
       " '__',\n",
       " '___',\n",
       " '__builtin__',\n",
       " '__builtins__',\n",
       " '__doc__',\n",
       " '__loader__',\n",
       " '__name__',\n",
       " '__package__',\n",
       " '__spec__',\n",
       " '_dh',\n",
       " '_exit_code',\n",
       " '_i',\n",
       " '_i1',\n",
       " '_i10',\n",
       " '_i11',\n",
       " '_i12',\n",
       " '_i13',\n",
       " '_i14',\n",
       " '_i15',\n",
       " '_i16',\n",
       " '_i17',\n",
       " '_i18',\n",
       " '_i19',\n",
       " '_i2',\n",
       " '_i20',\n",
       " '_i21',\n",
       " '_i22',\n",
       " '_i23',\n",
       " '_i24',\n",
       " '_i25',\n",
       " '_i26',\n",
       " '_i27',\n",
       " '_i28',\n",
       " '_i29',\n",
       " '_i3',\n",
       " '_i30',\n",
       " '_i31',\n",
       " '_i32',\n",
       " '_i33',\n",
       " '_i34',\n",
       " '_i35',\n",
       " '_i36',\n",
       " '_i37',\n",
       " '_i38',\n",
       " '_i39',\n",
       " '_i4',\n",
       " '_i40',\n",
       " '_i41',\n",
       " '_i42',\n",
       " '_i43',\n",
       " '_i44',\n",
       " '_i45',\n",
       " '_i46',\n",
       " '_i47',\n",
       " '_i48',\n",
       " '_i49',\n",
       " '_i5',\n",
       " '_i50',\n",
       " '_i51',\n",
       " '_i52',\n",
       " '_i53',\n",
       " '_i54',\n",
       " '_i55',\n",
       " '_i56',\n",
       " '_i57',\n",
       " '_i58',\n",
       " '_i59',\n",
       " '_i6',\n",
       " '_i60',\n",
       " '_i61',\n",
       " '_i62',\n",
       " '_i7',\n",
       " '_i8',\n",
       " '_i9',\n",
       " '_ih',\n",
       " '_ii',\n",
       " '_iii',\n",
       " '_oh',\n",
       " 'a',\n",
       " 'b',\n",
       " 'c',\n",
       " 'custom_js_path',\n",
       " 'exit',\n",
       " 'f',\n",
       " 'get_ipython',\n",
       " 'jupyter_config_dir',\n",
       " 'jupyter_dir',\n",
       " 'os',\n",
       " 'quit']"
      ]
     },
     "execution_count": 62,
     "metadata": {},
     "output_type": "execute_result"
    }
   ],
   "source": [
    "dir()"
   ]
  },
  {
   "cell_type": "code",
   "execution_count": 63,
   "metadata": {},
   "outputs": [],
   "source": [
    "In?"
   ]
  },
  {
   "cell_type": "code",
   "execution_count": 64,
   "metadata": {},
   "outputs": [],
   "source": [
    "pdoc In"
   ]
  },
  {
   "cell_type": "code",
   "execution_count": 65,
   "metadata": {},
   "outputs": [
    {
     "data": {
      "text/plain": [
       "range(0, 10)"
      ]
     },
     "execution_count": 65,
     "metadata": {},
     "output_type": "execute_result"
    }
   ],
   "source": [
    "range(0,10)"
   ]
  },
  {
   "cell_type": "code",
   "execution_count": 66,
   "metadata": {},
   "outputs": [],
   "source": [
    "a = range(0,10)"
   ]
  },
  {
   "cell_type": "code",
   "execution_count": 25,
   "metadata": {},
   "outputs": [
    {
     "data": {
      "text/plain": [
       "range(0, 10)"
      ]
     },
     "execution_count": 25,
     "metadata": {},
     "output_type": "execute_result"
    }
   ],
   "source": [
    "a"
   ]
  },
  {
   "cell_type": "code",
   "execution_count": 67,
   "metadata": {},
   "outputs": [
    {
     "data": {
      "text/plain": [
       "3"
      ]
     },
     "execution_count": 67,
     "metadata": {},
     "output_type": "execute_result"
    }
   ],
   "source": [
    "a[3]"
   ]
  },
  {
   "cell_type": "code",
   "execution_count": 68,
   "metadata": {},
   "outputs": [
    {
     "data": {
      "text/plain": [
       "10"
      ]
     },
     "execution_count": 68,
     "metadata": {},
     "output_type": "execute_result"
    }
   ],
   "source": [
    "len(a)"
   ]
  },
  {
   "cell_type": "code",
   "execution_count": 69,
   "metadata": {},
   "outputs": [
    {
     "data": {
      "text/plain": [
       "0"
      ]
     },
     "execution_count": 69,
     "metadata": {},
     "output_type": "execute_result"
    }
   ],
   "source": [
    "a[0]"
   ]
  },
  {
   "cell_type": "code",
   "execution_count": 78,
   "metadata": {},
   "outputs": [
    {
     "name": "stdout",
     "output_type": "stream",
     "text": [
      "4\n",
      "3\n"
     ]
    }
   ],
   "source": [
    "c = a\n",
    "c[5]\n",
    "print(c[4])\n",
    "print(c[3])"
   ]
  },
  {
   "cell_type": "code",
   "execution_count": 72,
   "metadata": {},
   "outputs": [
    {
     "data": {
      "text/plain": [
       "range(0, 10)"
      ]
     },
     "execution_count": 72,
     "metadata": {},
     "output_type": "execute_result"
    }
   ],
   "source": [
    "c"
   ]
  },
  {
   "cell_type": "code",
   "execution_count": 76,
   "metadata": {},
   "outputs": [
    {
     "name": "stdout",
     "output_type": "stream",
     "text": [
      "range(0, 10)\n"
     ]
    }
   ],
   "source": [
    "print(c)"
   ]
  },
  {
   "cell_type": "code",
   "execution_count": 75,
   "metadata": {},
   "outputs": [],
   "source": [
    "c?"
   ]
  },
  {
   "cell_type": "code",
   "execution_count": 79,
   "metadata": {},
   "outputs": [],
   "source": [
    "w = 'python'"
   ]
  },
  {
   "cell_type": "code",
   "execution_count": 80,
   "metadata": {},
   "outputs": [
    {
     "name": "stdout",
     "output_type": "stream",
     "text": [
      "python\n",
      "python\n",
      "p\n",
      "n\n",
      "py\n",
      "thon\n"
     ]
    }
   ],
   "source": [
    "print(w)\n",
    "print(w[:])\n",
    "print(w[0])\n",
    "print(w[5])\n",
    "print(w[:2])\n",
    "print(w[2:])"
   ]
  },
  {
   "cell_type": "code",
   "execution_count": 85,
   "metadata": {},
   "outputs": [
    {
     "name": "stdout",
     "output_type": "stream",
     "text": [
      "python\n"
     ]
    }
   ],
   "source": [
    "w2 = w[:2] + w[2:]\n",
    "print(w2)"
   ]
  },
  {
   "cell_type": "code",
   "execution_count": 87,
   "metadata": {},
   "outputs": [
    {
     "name": "stdout",
     "output_type": "stream",
     "text": [
      "n\n",
      "p\n",
      "on\n",
      "pyth\n"
     ]
    }
   ],
   "source": [
    "print(w[-1])\n",
    "print(w[-6])\n",
    "print(w[-2:])\n",
    "print(w[:-2])"
   ]
  },
  {
   "cell_type": "code",
   "execution_count": 90,
   "metadata": {},
   "outputs": [
    {
     "name": "stdout",
     "output_type": "stream",
     "text": [
      "The value of b is 1\n",
      "The value of b is 2\n",
      "The value of b is 3\n",
      "The value of b is 5\n",
      "The value of b is 8\n",
      "The value of b is 13\n"
     ]
    }
   ],
   "source": [
    "a,b = 0,1\n",
    "while b<10:\n",
    "    a,b = b,a+b\n",
    "    print('The value of b is', b)\n",
    "    \n",
    "    "
   ]
  },
  {
   "cell_type": "code",
   "execution_count": null,
   "metadata": {},
   "outputs": [],
   "source": []
  }
 ],
 "metadata": {
  "kernelspec": {
   "display_name": "Python 3",
   "language": "python",
   "name": "python3"
  },
  "language_info": {
   "codemirror_mode": {
    "name": "ipython",
    "version": 3
   },
   "file_extension": ".py",
   "mimetype": "text/x-python",
   "name": "python",
   "nbconvert_exporter": "python",
   "pygments_lexer": "ipython3",
   "version": "3.4.3"
  }
 },
 "nbformat": 4,
 "nbformat_minor": 2
}
