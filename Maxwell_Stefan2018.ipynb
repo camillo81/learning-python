{
 "cells": [
  {
   "cell_type": "markdown",
   "metadata": {},
   "source": [
    "$$\n",
    "% transferring macros:\n",
    "\\let\\eps\\varepsilon\n",
    "\\let\\wt\\widetilde\n",
    "\\let\\tn\\mathrm\n",
    "\\let\\vphi\\varphi\n",
    "\\let\\pa\\partial\n",
    "\\let\\para\\parallel\n",
    "\\let\\wh\\widehat\n",
    "\\let\\sl\\shoveleft\n",
    "% defining new macros:\n",
    "\\def\\be{\\begin{equation} \\mskip 1cm}\n",
    "\\def\\ee{\\end{equation}}\n",
    "\\def\\ba{\\begin{align} \\mskip 1cm}\n",
    "\\def\\ea{\\end{align}}\n",
    "\\def\\RR{{\\bf R}}\n",
    "\\def\\grad{\\tn{grad}}\n",
    "\\def\\curl{\\tn{curl}}\n",
    "\\def\\div{\\tn{div}}\n",
    "\\def\\Im{\\tn{Im}}\n",
    "% defining new commands:\n",
    "\\newcommand{\\abs}[1]{\\lvert#1\\rvert}\n",
    "\\newcommand{\\bold}[1]{{\\bf #1}}\n",
    "$$"
   ]
  },
  {
   "cell_type": "markdown",
   "metadata": {},
   "source": [
    "# Maxwell's equations with finite element exterior calculus\n",
    "\n",
    "The aim of this notebook is to explain the finite element discretization of Maxwell's equations based on finite element exterior calculus (FEEC). This method is based on the de Rham complex of finite element spaces: \n",
    "\n",
    "<img src=\"pics/deRham.png\" width=\"650\"/> \n",
    "\n",
    "Here, ...\n",
    "\n",
    "A simpler version of the above complex is the represented in the following diagram:\n",
    "\n",
    "<img src=\"pics/deRham1D.png\" width=\"260\"/> \n",
    "\n"
   ]
  },
  {
   "cell_type": "markdown",
   "metadata": {},
   "source": []
  }
 ],
 "metadata": {
  "kernelspec": {
   "display_name": "Python 3",
   "language": "python",
   "name": "python3"
  },
  "language_info": {
   "codemirror_mode": {
    "name": "ipython",
    "version": 3
   },
   "file_extension": ".py",
   "mimetype": "text/x-python",
   "name": "python",
   "nbconvert_exporter": "python",
   "pygments_lexer": "ipython3",
   "version": "3.6.5"
  }
 },
 "nbformat": 4,
 "nbformat_minor": 2
}
