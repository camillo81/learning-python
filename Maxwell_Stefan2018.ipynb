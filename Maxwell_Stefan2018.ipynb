{
 "cells": [
  {
   "cell_type": "markdown",
   "metadata": {},
   "source": [
    "$$\n",
    "% transferring macros:\n",
    "\\let\\eps\\varepsilon\n",
    "\\let\\wt\\widetilde\n",
    "\\let\\tn\\mathrm\n",
    "\\let\\vphi\\varphi\n",
    "\\let\\pa\\partial\n",
    "\\let\\para\\parallel\n",
    "\\let\\wh\\widehat\n",
    "\\let\\sl\\shoveleft\n",
    "% defining new macros:\n",
    "\\def\\be{\\begin{equation} \\mskip 1cm}\n",
    "\\def\\ee{\\end{equation}}\n",
    "\\def\\ba{\\begin{align} \\mskip 1cm}\n",
    "\\def\\ea{\\end{align}}\n",
    "\\def\\RR{{\\bf R}}\n",
    "\\def\\grad{\\tn{grad}\\,}\n",
    "\\def\\curl{\\tn{curl}\\,}\n",
    "\\def\\div{\\tn{div}\\,}\n",
    "\\def\\Im{\\tn{Im}}\n",
    "% defining new commands:\n",
    "\\newcommand{\\abs}[1]{\\lvert#1\\rvert}\n",
    "\\newcommand{\\bold}[1]{{\\bf #1}}\n",
    "\\newcommand{\\pder}[2]{\\frac{\\partial #1}{\\partial #2}}\n",
    "\\newcommand{\\dt}[1]{\\frac{\\mathrm d #1}{\\mathrm dt}}\n",
    "$$"
   ]
  },
  {
   "cell_type": "markdown",
   "metadata": {},
   "source": [
    "# Maxwell's equations with finite element exterior calculus\n",
    "\n",
    "## Problem formulation\n",
    "\n",
    "The aim of this notebook is to explain the finite element discretization of Maxwell's equations based on finite element exterior calculus (FEEC). This method is based on the de Rham complex of finite element spaces: \n",
    "\n",
    "<img src=\"pics/deRham.png\" width=\"550\"/> \n",
    "\n",
    "This complex is used in the discritzation of Maxwell's equations for the electric field $\\bold E$ and the magnetic field $\\bold B$:\n",
    "\n",
    "$$\n",
    "\\ba\n",
    " \\frac{1}{c^2} \\pder{\\bold E}{t} - \\curl \\bold B &= - \\mu_0\\bold j &&\\qquad\\quad\\tn{(Ampère)} \\,, \\label{ampere}\n",
    " \\\\[1mm]\n",
    " \\pder{\\bold B}{t} + \\curl \\bold E &= 0 &&\\qquad\\quad\\tn{(Faraday)} \\,,\n",
    " \\\\[1.5mm]\n",
    " \\div \\bold E &= \\frac{\\varrho}{\\eps_0} &&\\qquad\\quad\\tn{(Gauss\\,1)} \\,, \\label{gauss}\n",
    " \\\\[2mm]\n",
    " \\div \\bold B &= 0 &&\\qquad\\quad\\tn{(Gauss\\,2)} \\,. \\label{divB}\n",
    "\\ea\n",
    "$$\n",
    "\n",
    "Here, $\\bold j$ and $\\varrho$ are the given sources, namely the current density and the charge denstiy, respectively. Natural constants are the speed of light $c$, the magnetic constant $\\mu_0$ and the dielectric constant $\\eps_0$, where $1/c^2 = \\eps_0\\mu_0$. Taking the divergence of Ampère's law \\eqref{ampere}, using that $\\div\\curl = 0$ and inserting Gauss' law \\eqref{gauss} yields\n",
    "\n",
    "$$\n",
    "\\be\n",
    " \\pder{\\varrho}{t} + \\div \\bold j = 0\\,. \\label{charge}\n",
    "\\ee\n",
    "$$\n",
    "\n",
    "This is a solvability condition for Maxwell's equations, called \"conservation of charge\". On the other hand, equation \\eqref{charge} implies\n",
    "\n",
    "$$\n",
    "\\be \\label{alltimes}\n",
    " \\dt{} \\left( \\div \\bold E - \\frac{\\varrho}{\\eps_0} \\right) =  \\frac{1}{\\eps_0\\mu_0}\\, \\div \\curl \\bold B - \\frac{1}{\\eps_0} \\div \\bold j - \\frac{1}{\\eps_0} \\pder{\\varrho}{t} = 0\\,,\n",
    "\\ee\n",
    "$$\n",
    "\n",
    "Similarly,\n",
    "\n",
    "$$\n",
    "\\be\n",
    " \\dt{}\\, \\div \\bold B = - \\div \\curl \\bold E = 0\\,,\n",
    " \\ee\n",
    "$$\n",
    "\n",
    "which means that the two Gauss laws are satisfied at all times provided that they are satisfied at the initial time. The commuting diagram property of the deRham complex allows for numerical schemes that translate this property to the discrete level exactly (up to machine precision).\n",
    "\n",
    "Let us start with the one dimensional case (1D). For this we assume that variations of $\\bold E$ and $\\bold B$ occurr only with respect to the $x$-direction, hence\n",
    "\n",
    "$$\n",
    "\\be\n",
    " \\grad = \\begin{pmatrix} \\pder{}{x} \\\\ 0 \\\\ 0  \\end{pmatrix} \\,,\\qquad \\curl \\bold E = \\begin{pmatrix} 0 \\\\ -\\pder{E_z}{x} \\\\ \\pder{E_y}{x} \\end{pmatrix}\\,,\\qquad \\div \\bold E = \\pder{E_x}{x}\\,.\n",
    "\\ee\n",
    "$$\n",
    "\n",
    "Moreover, let us assume $E_z = B_x = B_y = 0$ and denote $E := E_y$, $j:= j_y$ and $B:= B_z$. Maxwell's equations then read\n",
    "\n",
    "$$\n",
    "\\ba\n",
    " &\\frac{1}{c^2} \\pder{E_x}{t} = - \\mu_0 j_x &&\\qquad\\quad\\tn{(Ampère\\,first\\,component)} \\,, \\label{ampere:1Dx}\n",
    " \\\\[1mm]\n",
    " &\\frac{1}{c^2} \\pder{E}{t} + \\pder{B}{x} = - \\mu_0 j &&\\qquad\\quad\\tn{(Ampère\\,second\\,component)} \\,, \\label{ampere:1D}\n",
    " \\\\[1mm]\n",
    " &\\pder{B}{t} + \\pder{E}{x} = 0 &&\\qquad\\quad\\tn{(Faraday)} \\,. \\label{faraday:1D}\n",
    "\\ea\n",
    "$$\n",
    "\n",
    "We assume the domain to be $\\Omega = (0,L)$ and suppose homogeneous Dirichlet boundary conditions for $E$ and periodic conditions for $E_x$ and $B$. In order to obtain a weak formulation of \\eqref{ampere:1Dx}-\\eqref{faraday:1D} we multiply by testfunctions $F_x$, $F$ and $C$ and integrate over $\\Omega$:\n",
    "\n",
    "$$\n",
    "\\ba\n",
    " &\\frac{1}{c^2} \\int_0^L \\pder{E_x}{t} F_x\\,\\tn d x = - \\mu_0 \\int_0^L j_x F_x\\,\\tn d x\\,, \\label{int:1}\n",
    " \\\\[1mm]\n",
    " &\\frac{1}{c^2} \\int_0^L \\pder{E}{t} F\\,\\tn d x + \\int_0^L \\pder{B}{x} F\\,\\tn d x = - \\mu_0 \\int_0^L j \\,F\\,\\tn d x\\,, \n",
    " \\\\[1mm]\n",
    " &\\int_0^L \\pder{B}{t} C\\,\\tn d x + \\int_0^L \\pder{E}{x} C\\,\\tn d x = 0\\,. \\label{int:3}\n",
    "\\ea\n",
    "$$\n",
    "\n",
    "There are multiple possibilities to use this for a weak formulation of \\eqref{int:1}-\\eqref{int:3}. We choose the following: find $(E_x,E,B)\\in H^1\\times H^1_0 \\times L^2$ such that\n",
    "\n",
    "$$\n",
    "\\ba\n",
    " &\\frac{1}{c^2} \\int_0^L \\pder{E_x}{t} F_x\\,\\tn d x = - \\mu_0 \\int_0^L j_x F_x\\,\\tn d x \\qquad &&\\forall\\, F_x \\in H^1\\,, \\label{weak:1}\n",
    " \\\\[1mm]\n",
    " &\\frac{1}{c^2} \\int_0^L \\pder{E}{t} F\\,\\tn d x - \\int_0^L B\\,\\pder{F}{x} \\,\\tn d x = - \\mu_0 \\int_0^L j \\,F\\,\\tn d x \\qquad &&\\forall\\, F \\in H^1_0\\,, \n",
    " \\\\[1mm]\n",
    " &\\int_0^L \\pder{B}{t} C\\,\\tn d x + \\int_0^L \\pder{E}{x} C\\,\\tn d x = 0 \\qquad &&\\forall\\, C \\in L^2\\,. \\label{weak:3}\n",
    "\\ea\n",
    "$$\n",
    "\n",
    "Remark that we intgrated by parts in the second equation in order to obtain a well defined weak formulation."
   ]
  },
  {
   "cell_type": "markdown",
   "metadata": {},
   "source": [
    "## Discretization\n",
    "\n",
    "The problem \\eqref{weak:1}-\\eqref{weak:3} contains only first order derivatives. Our aim is to choose solution spaces that satisfy a commuting diagram. A simpler 1D version of the above deRham complex reads as follows:\n",
    "\n",
    "<img src=\"pics/deRham1D.png\" width=\"220\"/>\n",
    "\n",
    "The projectors $\\Pi_0$ and $\\Pi_1$ are chosen such that the diagram is commuting. We shall implement such projectors for Lagrange finite elements and for spline finite elements.\n",
    "\n",
    "### Lagrange finite elements\n",
    "\n",
    "Let us start by defining the mesh points over the domian $\\Omega$:"
   ]
  },
  {
   "cell_type": "code",
   "execution_count": 1,
   "metadata": {},
   "outputs": [],
   "source": [
    "import numpy as np"
   ]
  },
  {
   "cell_type": "code",
   "execution_count": 2,
   "metadata": {},
   "outputs": [
    {
     "name": "stdout",
     "output_type": "stream",
     "text": [
      "L = 4 \n",
      "N = 32\n",
      "\n",
      "x =  [0.         0.12903226 0.25806452 0.38709677 0.51612903 0.64516129\n",
      " 0.77419355 0.90322581 1.03225806 1.16129032 1.29032258 1.41935484\n",
      " 1.5483871  1.67741935 1.80645161 1.93548387 2.06451613 2.19354839\n",
      " 2.32258065 2.4516129  2.58064516 2.70967742 2.83870968 2.96774194\n",
      " 3.09677419 3.22580645 3.35483871 3.48387097 3.61290323 3.74193548\n",
      " 3.87096774 4.        ]\n",
      "\n",
      "len(x) = 32\n",
      "\n",
      "x(0) = 0.00\n",
      "x(1) = 0.13\n",
      "x(2) = 0.26\n",
      "x(3) = 0.39\n",
      "x(4) = 0.52\n",
      "x(5) = 0.65\n",
      "x(6) = 0.77\n",
      "x(7) = 0.90\n",
      "x(8) = 1.03\n",
      "x(9) = 1.16\n",
      "x(10) = 1.29\n",
      "x(11) = 1.42\n",
      "x(12) = 1.55\n",
      "x(13) = 1.68\n",
      "x(14) = 1.81\n",
      "x(15) = 1.94\n",
      "x(16) = 2.06\n",
      "x(17) = 2.19\n",
      "x(18) = 2.32\n",
      "x(19) = 2.45\n",
      "x(20) = 2.58\n",
      "x(21) = 2.71\n",
      "x(22) = 2.84\n",
      "x(23) = 2.97\n",
      "x(24) = 3.10\n",
      "x(25) = 3.23\n",
      "x(26) = 3.35\n",
      "x(27) = 3.48\n",
      "x(28) = 3.61\n",
      "x(29) = 3.74\n",
      "x(30) = 3.87\n",
      "x(31) = 4.00\n"
     ]
    }
   ],
   "source": [
    "L = 4\n",
    "N = 2**5\n",
    "print('L =', L, '\\nN =', N)\n",
    "# domain length and number of mesh points\n",
    "\n",
    "x = np.linspace(0, L, N)\n",
    "print('\\nx = ', x)\n",
    "print('\\nlen(x) =', len(x))\n",
    "print()\n",
    "for i in range(len(x)):\n",
    "    print('x({0}) = {1:3.2f}'.format(i, x[i]))\n",
    "# mesh points"
   ]
  },
  {
   "cell_type": "code",
   "execution_count": 3,
   "metadata": {},
   "outputs": [
    {
     "data": {
      "text/plain": [
       "numpy.ndarray"
      ]
     },
     "execution_count": 3,
     "metadata": {},
     "output_type": "execute_result"
    }
   ],
   "source": [
    "type(x)\n",
    "# this is indeed a numpy array"
   ]
  },
  {
   "cell_type": "markdown",
   "metadata": {},
   "source": [
    "We want to define the so-called _shape functions_ $\\eta_n$ on the reference element $I=[-1,1]$, where $n \\in [d]$ and $d$ is the degree of the polynomials. The interval $I$ is thus separated into $d$ elements of equal size, whose interfaces are denoted by $s_n$: "
   ]
  },
  {
   "cell_type": "code",
   "execution_count": 4,
   "metadata": {
    "scrolled": true
   },
   "outputs": [
    {
     "name": "stdout",
     "output_type": "stream",
     "text": [
      "s = [-1.  1.]\n",
      "\n",
      "s(0) = -1.00\n",
      "s(1) = 1.00\n"
     ]
    }
   ],
   "source": [
    "d = 1\n",
    "# polynomial degree\n",
    "\n",
    "s = np.linspace(-1, 1, d + 1)\n",
    "print('s =',s)\n",
    "print()\n",
    "for n in range(len(s)):\n",
    "    print('s({0}) = {1:3.2f}'.format(n,s[n]))\n",
    "# mesh on the reference element"
   ]
  },
  {
   "cell_type": "code",
   "execution_count": 5,
   "metadata": {
    "scrolled": true
   },
   "outputs": [
    {
     "name": "stdout",
     "output_type": "stream",
     "text": [
      "Variable   Type       Data/Info\n",
      "-------------------------------\n",
      "L          int        4\n",
      "N          int        32\n",
      "d          int        1\n",
      "i          int        31\n",
      "n          int        1\n",
      "np         module     <module 'numpy' from '/us<...>kages/numpy/__init__.py'>\n",
      "s          ndarray    2: 2 elems, type `float64`, 16 bytes\n",
      "x          ndarray    32: 32 elems, type `float64`, 256 bytes\n"
     ]
    }
   ],
   "source": [
    "whos"
   ]
  },
  {
   "cell_type": "markdown",
   "metadata": {},
   "source": [
    "For Lagrange polynomials of degree $d$ we have\n",
    "\n",
    "$$\n",
    "\\be\n",
    " \\eta_n(s) = \\prod_{m \\neq n} \\frac{s - s_m}{s_n - s_m}\\,.\n",
    "\\ee\n",
    "$$\n",
    "\n",
    "Let us implement these as python functions. We will start with _lambda functions_ and then move on to polynomials defined via specialized numpy commands."
   ]
  },
  {
   "cell_type": "code",
   "execution_count": 6,
   "metadata": {},
   "outputs": [
    {
     "name": "stdout",
     "output_type": "stream",
     "text": [
      "[1. 0.]\n",
      "[0. 1.]\n"
     ]
    }
   ],
   "source": [
    "η1_0 = lambda s: (1-s)/2\n",
    "η1_1 = lambda s: (1+s)/2\n",
    "# note that s here is a dummy to define the function, \n",
    "# while the variable s in the namespace is still an ndarray:\n",
    "print(η1_0(s))\n",
    "print(η1_1(s))"
   ]
  },
  {
   "cell_type": "code",
   "execution_count": 7,
   "metadata": {},
   "outputs": [
    {
     "name": "stdout",
     "output_type": "stream",
     "text": [
      "[]\n",
      "[<function <lambda> at 0x7f7144753d08>]\n",
      "[<function <lambda> at 0x7f7144753d08>, <function <lambda> at 0x7f7144753e18>]\n",
      "[1. 0.]\n",
      "[0. 1.]\n"
     ]
    }
   ],
   "source": [
    "η1 = []\n",
    "print(η1)\n",
    "η1.append(η1_0)\n",
    "print(η1)\n",
    "η1.append(η1_1)\n",
    "print(η1)\n",
    "print(η1[0](s))\n",
    "print(η1[1](s))"
   ]
  },
  {
   "cell_type": "code",
   "execution_count": 8,
   "metadata": {},
   "outputs": [
    {
     "name": "stdout",
     "output_type": "stream",
     "text": [
      "s1 = [-1.  1.] s2 = [-1.  0.  1.]\n",
      "[ 1. -0.  0.]\n",
      "[0. 1. 0.]\n",
      "[-0.  0.  1.]\n"
     ]
    }
   ],
   "source": [
    "η2 = []\n",
    "η2.append(lambda s: s*(s-1)/2)\n",
    "η2.append(lambda s: 1-s**2)\n",
    "η2.append(lambda s: s*(s+1)/2)\n",
    "s1 = s\n",
    "s2 = np.linspace(-1,1,3)\n",
    "print('s1 =', s1, 's2 =', s2)\n",
    "print(η2[0](s2), η2[1](s2), η2[2](s2), sep='\\n')"
   ]
  },
  {
   "cell_type": "code",
   "execution_count": 9,
   "metadata": {},
   "outputs": [
    {
     "data": {
      "image/png": "[encoded data removed]",
      "text/plain": [
       "<Figure size 648x432 with 1 Axes>"
      ]
     },
     "metadata": {
      "needs_background": "light"
     },
     "output_type": "display_data"
    }
   ],
   "source": [
    "# Let us plot the second order shape functions:\n",
    "%matplotlib inline\n",
    "\n",
    "import matplotlib\n",
    "import matplotlib.pyplot as plt\n",
    "\n",
    "svec = np.linspace(-1,1,100)\n",
    "fig, ax = plt.subplots(1, 1, figsize=(9, 6))\n",
    "ax.plot(svec, η2[0](svec))\n",
    "ax.plot(svec, η2[1](svec))\n",
    "ax.plot(svec, η2[2](svec))\n",
    "ax.grid()\n",
    "ax.set(title='Lagrange shape functions of degree 2')\n",
    "plt.show()"
   ]
  },
  {
   "cell_type": "code",
   "execution_count": 10,
   "metadata": {},
   "outputs": [],
   "source": [
    "np?"
   ]
  },
  {
   "cell_type": "code",
   "execution_count": 11,
   "metadata": {},
   "outputs": [],
   "source": [
    "np.polynomial?"
   ]
  },
  {
   "cell_type": "code",
   "execution_count": 12,
   "metadata": {},
   "outputs": [],
   "source": [
    "np.poly?"
   ]
  },
  {
   "cell_type": "code",
   "execution_count": 13,
   "metadata": {},
   "outputs": [],
   "source": [
    "np.poly1d?"
   ]
  },
  {
   "cell_type": "code",
   "execution_count": 14,
   "metadata": {},
   "outputs": [],
   "source": [
    "np.polyval?"
   ]
  },
  {
   "cell_type": "code",
   "execution_count": 15,
   "metadata": {},
   "outputs": [
    {
     "name": "stdout",
     "output_type": "stream",
     "text": [
      "Variable     Type           Data/Info\n",
      "-------------------------------------\n",
      "L            int            4\n",
      "N            int            32\n",
      "ax           AxesSubplot    AxesSubplot(0.125,0.125;0.775x0.755)\n",
      "d            int            1\n",
      "fig          Figure         Figure(648x432)\n",
      "i            int            31\n",
      "matplotlib   module         <module 'matplotlib' from<...>/matplotlib/__init__.py'>\n",
      "n            int            1\n",
      "np           module         <module 'numpy' from '/us<...>kages/numpy/__init__.py'>\n",
      "plt          module         <module 'matplotlib.pyplo<...>es/matplotlib/pyplot.py'>\n",
      "s            ndarray        2: 2 elems, type `float64`, 16 bytes\n",
      "s1           ndarray        2: 2 elems, type `float64`, 16 bytes\n",
      "s2           ndarray        3: 3 elems, type `float64`, 24 bytes\n",
      "svec         ndarray        100: 100 elems, type `float64`, 800 bytes\n",
      "x            ndarray        32: 32 elems, type `float64`, 256 bytes\n",
      "η1           list           n=2\n",
      "η1_0         function       <function <lambda> at 0x7f7144753d08>\n",
      "η1_1         function       <function <lambda> at 0x7f7144753e18>\n",
      "η2           list           n=3\n"
     ]
    }
   ],
   "source": [
    "whos"
   ]
  },
  {
   "cell_type": "code",
   "execution_count": 16,
   "metadata": {},
   "outputs": [],
   "source": [
    "del s, η1, η1_0, η1_1, η2"
   ]
  },
  {
   "cell_type": "code",
   "execution_count": 17,
   "metadata": {},
   "outputs": [
    {
     "name": "stdout",
     "output_type": "stream",
     "text": [
      "Variable     Type           Data/Info\n",
      "-------------------------------------\n",
      "L            int            4\n",
      "N            int            32\n",
      "ax           AxesSubplot    AxesSubplot(0.125,0.125;0.775x0.755)\n",
      "d            int            1\n",
      "fig          Figure         Figure(648x432)\n",
      "i            int            31\n",
      "matplotlib   module         <module 'matplotlib' from<...>/matplotlib/__init__.py'>\n",
      "n            int            1\n",
      "np           module         <module 'numpy' from '/us<...>kages/numpy/__init__.py'>\n",
      "plt          module         <module 'matplotlib.pyplo<...>es/matplotlib/pyplot.py'>\n",
      "s1           ndarray        2: 2 elems, type `float64`, 16 bytes\n",
      "s2           ndarray        3: 3 elems, type `float64`, 24 bytes\n",
      "svec         ndarray        100: 100 elems, type `float64`, 800 bytes\n",
      "x            ndarray        32: 32 elems, type `float64`, 256 bytes\n"
     ]
    }
   ],
   "source": [
    "whos"
   ]
  },
  {
   "cell_type": "code",
   "execution_count": 18,
   "metadata": {},
   "outputs": [
    {
     "name": "stdout",
     "output_type": "stream",
     "text": [
      " \n",
      "-0.5 s + 0.5\n",
      "\n",
      "eta1[0] evaluated at mesh points: [1. 0.]\n",
      "coefficients of eta1[0] are: [-0.5  0.5] \n",
      "roots of eta1[0] are: [1.]\n"
     ]
    }
   ],
   "source": [
    "η1 = []\n",
    "η1.append(np.poly1d([-1/2, 1/2], variable='s'))\n",
    "print(η1[0])\n",
    "η1.append(np.poly1d([1/2, 1/2], variable='s'))\n",
    "print('\\neta1[0] evaluated at mesh points:', η1[0](s1))\n",
    "print('coefficients of eta1[0] are:', η1[0].c, '\\nroots of eta1[0] are:', η1[0].r)"
   ]
  },
  {
   "cell_type": "code",
   "execution_count": 19,
   "metadata": {},
   "outputs": [
    {
     "data": {
      "image/png": "[encoded data removed]",
      "text/plain": [
       "<Figure size 648x432 with 1 Axes>"
      ]
     },
     "metadata": {
      "needs_background": "light"
     },
     "output_type": "display_data"
    }
   ],
   "source": [
    "η2 = []\n",
    "η2.append(np.poly1d([1/2, -1/2, 0], variable='s'))\n",
    "η2.append(np.poly1d([-1, 0, 1], variable='s'))\n",
    "η2.append(np.poly1d([1/2, 1/2, 0], variable='s'))\n",
    "fig, ax = plt.subplots(1, 1, figsize=(9, 6))\n",
    "ax.plot(svec, η2[0](svec))\n",
    "ax.plot(svec, η2[1](svec))\n",
    "ax.plot(svec, η2[2](svec))\n",
    "ax.grid()\n",
    "ax.set(title='Lagrange shape functions of degree 2')\n",
    "plt.show()"
   ]
  },
  {
   "cell_type": "code",
   "execution_count": 20,
   "metadata": {},
   "outputs": [
    {
     "name": "stdout",
     "output_type": "stream",
     "text": [
      "     2\n",
      "0.5 s - 0.5 s  \n",
      "1 x - 0.5\n",
      " \n",
      "1 s - 0.5\n",
      "-----------------\n",
      "    2\n",
      "-1 s + 1  \n",
      "-2 x\n",
      " \n",
      "-2 s\n",
      "-----------------\n",
      "     2\n",
      "0.5 s + 0.5 s  \n",
      "1 x + 0.5\n",
      " \n",
      "1 s + 0.5\n",
      "-----------------\n"
     ]
    }
   ],
   "source": [
    "Dη2 = []\n",
    "for i in range(3):\n",
    "    Dη2.append(np.polyder(η2[i]))\n",
    "    print(η2[i], Dη2[i])\n",
    "    Dη2[i] = np.poly1d(Dη2[i], variable='s')\n",
    "    print(Dη2[i])\n",
    "    print('-----------------')\n",
    "# derivatives of polynomials"
   ]
  },
  {
   "cell_type": "code",
   "execution_count": 21,
   "metadata": {},
   "outputs": [],
   "source": [
    "# Let us try to define the Lagrange polynomilas via their roots.\n",
    "# For this we delete the existing variables holding polynomials:"
   ]
  },
  {
   "cell_type": "code",
   "execution_count": 22,
   "metadata": {},
   "outputs": [
    {
     "name": "stdout",
     "output_type": "stream",
     "text": [
      "Variable     Type           Data/Info\n",
      "-------------------------------------\n",
      "Dη2          list           n=3\n",
      "L            int            4\n",
      "N            int            32\n",
      "ax           AxesSubplot    AxesSubplot(0.125,0.125;0.775x0.755)\n",
      "d            int            1\n",
      "fig          Figure         Figure(648x432)\n",
      "i            int            2\n",
      "matplotlib   module         <module 'matplotlib' from<...>/matplotlib/__init__.py'>\n",
      "n            int            1\n",
      "np           module         <module 'numpy' from '/us<...>kages/numpy/__init__.py'>\n",
      "plt          module         <module 'matplotlib.pyplo<...>es/matplotlib/pyplot.py'>\n",
      "s1           ndarray        2: 2 elems, type `float64`, 16 bytes\n",
      "s2           ndarray        3: 3 elems, type `float64`, 24 bytes\n",
      "svec         ndarray        100: 100 elems, type `float64`, 800 bytes\n",
      "x            ndarray        32: 32 elems, type `float64`, 256 bytes\n",
      "η1           list           n=2\n",
      "η2           list           n=3\n"
     ]
    }
   ],
   "source": [
    "whos"
   ]
  },
  {
   "cell_type": "code",
   "execution_count": 23,
   "metadata": {},
   "outputs": [],
   "source": [
    "del Dη2, η1, η2"
   ]
  },
  {
   "cell_type": "code",
   "execution_count": 24,
   "metadata": {},
   "outputs": [
    {
     "name": "stdout",
     "output_type": "stream",
     "text": [
      "Variable     Type           Data/Info\n",
      "-------------------------------------\n",
      "L            int            4\n",
      "N            int            32\n",
      "ax           AxesSubplot    AxesSubplot(0.125,0.125;0.775x0.755)\n",
      "d            int            1\n",
      "fig          Figure         Figure(648x432)\n",
      "i            int            2\n",
      "matplotlib   module         <module 'matplotlib' from<...>/matplotlib/__init__.py'>\n",
      "n            int            1\n",
      "np           module         <module 'numpy' from '/us<...>kages/numpy/__init__.py'>\n",
      "plt          module         <module 'matplotlib.pyplo<...>es/matplotlib/pyplot.py'>\n",
      "s1           ndarray        2: 2 elems, type `float64`, 16 bytes\n",
      "s2           ndarray        3: 3 elems, type `float64`, 24 bytes\n",
      "svec         ndarray        100: 100 elems, type `float64`, 800 bytes\n",
      "x            ndarray        32: 32 elems, type `float64`, 256 bytes\n"
     ]
    }
   ],
   "source": [
    "whos"
   ]
  },
  {
   "cell_type": "code",
   "execution_count": 43,
   "metadata": {},
   "outputs": [],
   "source": [
    "η1 = []\n",
    "η1.append(np.poly1d([s1[1]], r=True, variable='s'))"
   ]
  },
  {
   "cell_type": "code",
   "execution_count": 44,
   "metadata": {},
   "outputs": [
    {
     "name": "stdout",
     "output_type": "stream",
     "text": [
      " \n",
      "1 s - 1\n"
     ]
    }
   ],
   "source": [
    "print(η1[0])"
   ]
  },
  {
   "cell_type": "code",
   "execution_count": 45,
   "metadata": {},
   "outputs": [],
   "source": [
    "η1[0] /= s1[0] - s1[1]"
   ]
  },
  {
   "cell_type": "code",
   "execution_count": 46,
   "metadata": {},
   "outputs": [
    {
     "name": "stdout",
     "output_type": "stream",
     "text": [
      " \n",
      "-0.5 x + 0.5\n"
     ]
    }
   ],
   "source": [
    "print(η1[0])"
   ]
  },
  {
   "cell_type": "code",
   "execution_count": 47,
   "metadata": {},
   "outputs": [
    {
     "name": "stdout",
     "output_type": "stream",
     "text": [
      "[poly1d([-0.5,  0.5]), poly1d([1., 1.])]\n"
     ]
    }
   ],
   "source": [
    "η1.append(np.poly1d([s1[0]], r=True, variable='s'))\n",
    "print(η1)"
   ]
  },
  {
   "cell_type": "code",
   "execution_count": 48,
   "metadata": {},
   "outputs": [
    {
     "name": "stdout",
     "output_type": "stream",
     "text": [
      " \n",
      "0.5 x + 0.5\n"
     ]
    }
   ],
   "source": [
    "η1[1] /= s1[1] - s1[0]\n",
    "print(η1[1])"
   ]
  },
  {
   "cell_type": "code",
   "execution_count": null,
   "metadata": {},
   "outputs": [],
   "source": []
  }
 ],
 "metadata": {
  "kernelspec": {
   "display_name": "Python 3",
   "language": "python",
   "name": "python3"
  },
  "language_info": {
   "codemirror_mode": {
    "name": "ipython",
    "version": 3
   },
   "file_extension": ".py",
   "mimetype": "text/x-python",
   "name": "python",
   "nbconvert_exporter": "python",
   "pygments_lexer": "ipython3",
   "version": "3.4.3"
  }
 },
 "nbformat": 4,
 "nbformat_minor": 2
}
