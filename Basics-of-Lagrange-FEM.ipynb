{
 "cells": [
  {
   "cell_type": "markdown",
   "metadata": {},
   "source": [
    "$$\n",
    "% transferring macros:\n",
    "\\let\\eps\\varepsilon\n",
    "\\let\\wt\\widetilde\n",
    "\\let\\tn\\mathrm\n",
    "\\let\\vphi\\varphi\n",
    "\\let\\pa\\partial\n",
    "\\let\\para\\parallel\n",
    "\\let\\wh\\widehat\n",
    "\\let\\sl\\shoveleft\n",
    "% defining new macros:\n",
    "\\def\\be{\\begin{equation} \\mskip 1cm}\n",
    "\\def\\ee{\\end{equation}}\n",
    "\\def\\ba{\\begin{align} \\mskip 1cm}\n",
    "\\def\\ea{\\end{align}}\n",
    "\\def\\RR{{\\bf R}}\n",
    "\\def\\grad{\\tn{grad}\\,}\n",
    "\\def\\curl{\\tn{curl}\\,}\n",
    "\\def\\div{\\tn{div}\\,}\n",
    "\\def\\Im{\\tn{Im}}\n",
    "% defining new commands:\n",
    "\\newcommand{\\abs}[1]{\\lvert#1\\rvert}\n",
    "\\newcommand{\\bold}[1]{{\\bf #1}}\n",
    "\\newcommand{\\pder}[2]{\\frac{\\partial #1}{\\partial #2}}\n",
    "\\newcommand{\\dt}[1]{\\frac{\\mathrm d #1}{\\mathrm dt}}\n",
    "$$"
   ]
  },
  {
   "cell_type": "markdown",
   "metadata": {},
   "source": [
    "# Basics of Lagrange finite elements "
   ]
  },
  {
   "cell_type": "code",
   "execution_count": 2,
   "metadata": {},
   "outputs": [
    {
     "ename": "ImportError",
     "evalue": "No module named 'sympy'",
     "output_type": "error",
     "traceback": [
      "\u001b[1;31m---------------------------------------------------------------------------\u001b[0m",
      "\u001b[1;31mImportError\u001b[0m                               Traceback (most recent call last)",
      "\u001b[1;32m<ipython-input-2-cf8b08742965>\u001b[0m in \u001b[0;36m<module>\u001b[1;34m()\u001b[0m\n\u001b[0;32m      1\u001b[0m \u001b[1;32mimport\u001b[0m \u001b[0mnumpy\u001b[0m \u001b[1;32mas\u001b[0m \u001b[0mnp\u001b[0m\u001b[1;33m\u001b[0m\u001b[0m\n\u001b[1;32m----> 2\u001b[1;33m \u001b[1;32mimport\u001b[0m \u001b[0msympy\u001b[0m \u001b[1;32mas\u001b[0m \u001b[0msp\u001b[0m\u001b[1;33m\u001b[0m\u001b[0m\n\u001b[0m\u001b[0;32m      3\u001b[0m \u001b[1;32mimport\u001b[0m \u001b[0mmatplotlib\u001b[0m \u001b[1;32mas\u001b[0m \u001b[0mmpl\u001b[0m\u001b[1;33m\u001b[0m\u001b[0m\n\u001b[0;32m      4\u001b[0m \u001b[1;32mimport\u001b[0m \u001b[0mmatplotlib\u001b[0m\u001b[1;33m.\u001b[0m\u001b[0mpyplot\u001b[0m \u001b[1;32mas\u001b[0m \u001b[0mplt\u001b[0m\u001b[1;33m\u001b[0m\u001b[0m\n\u001b[0;32m      5\u001b[0m \u001b[0mget_ipython\u001b[0m\u001b[1;33m(\u001b[0m\u001b[1;33m)\u001b[0m\u001b[1;33m.\u001b[0m\u001b[0mmagic\u001b[0m\u001b[1;33m(\u001b[0m\u001b[1;34m'matplotlib inline'\u001b[0m\u001b[1;33m)\u001b[0m\u001b[1;33m\u001b[0m\u001b[0m\n",
      "\u001b[1;31mImportError\u001b[0m: No module named 'sympy'"
     ]
    }
   ],
   "source": [
    "import numpy as np\n",
    "import sympy as sp\n",
    "import matplotlib as mpl\n",
    "import matplotlib.pyplot as plt\n",
    "%matplotlib inline\n",
    "from scipy.integrate import fixed_quad\n",
    "import fembase as fem"
   ]
  },
  {
   "cell_type": "markdown",
   "metadata": {},
   "source": [
    "## Shape functions "
   ]
  },
  {
   "cell_type": "code",
   "execution_count": null,
   "metadata": {},
   "outputs": [],
   "source": [
    "degree = 2\n",
    "# polynomial degree\n",
    "shapefun = fem.LagrangeShape(np.linspace(-1, 1, degree + 1))\n",
    "# check the docstring to see what this does"
   ]
  },
  {
   "cell_type": "code",
   "execution_count": null,
   "metadata": {},
   "outputs": [],
   "source": [
    "fem.LagrangeShape?\n",
    "print(shapefun.__doc__)"
   ]
  },
  {
   "cell_type": "code",
   "execution_count": null,
   "metadata": {},
   "outputs": [],
   "source": [
    "np.polyder?"
   ]
  },
  {
   "cell_type": "code",
   "execution_count": null,
   "metadata": {},
   "outputs": [],
   "source": [
    "print('kind =', shapefun.kind)\n",
    "print('\\nd =', shapefun.d)\n",
    "print('\\ns =', shapefun.s)\n",
    "print('\\neta =', shapefun.eta)\n",
    "print('\\nDeta =', shapefun.Deta)\n",
    "print('\\nmass =', shapefun.mass)\n",
    "print('\\nstiff =', shapefun.stiff)"
   ]
  },
  {
   "cell_type": "code",
   "execution_count": null,
   "metadata": {},
   "outputs": [],
   "source": [
    "#fig = plt.figure(figsize=(8, 10))\n",
    "fig, axes = plt.subplots(2, 1, figsize=(8, 10))\n",
    "#axes = fig.subplots(2, 1)\n",
    "(ax1, ax2) = axes \n",
    "\n",
    "svec = np.linspace(-1,1,100)\n",
    "\n",
    "for i in range(shapefun.d + 1):\n",
    "    ax1.plot(svec, shapefun.eta[i](svec))\n",
    "    ax2.plot(svec, shapefun.Deta[i](svec))\n",
    "    \n",
    "ax1.grid()\n",
    "ax1.set(title='Lagrange shape functions of degree ' + str(shapefun.d))\n",
    "ax2.grid()\n",
    "ax2.set(title='Corresponding derivatives')\n",
    "\n",
    "plt.show()"
   ]
  },
  {
   "cell_type": "code",
   "execution_count": null,
   "metadata": {},
   "outputs": [],
   "source": [
    "fig,axes = plt.subplots(shapefun.d+1,1, figsize=(8, shapefun.d*6 + 2 ))\n",
    "#axes = fig.subplots(shapefun.d + 1, 1) \n",
    "\n",
    "for i in range(shapefun.d + 1):\n",
    "    \n",
    "    if i == shapefun.d:\n",
    "        axes[0].plot(svec - shapefun.s[i], shapefun.eta[i](svec), color='C' + str(i))\n",
    "    else:\n",
    "        axes[i].plot(svec - shapefun.s[i], shapefun.eta[i](svec), color='C' + str(i))\n",
    "        axes[i].grid()\n",
    "        axes[i].set(title='Basis function eta_' + str(i))\n",
    "\n",
    "fig.delaxes(axes[shapefun.d])\n",
    "plt.show()"
   ]
  },
  {
   "cell_type": "code",
   "execution_count": null,
   "metadata": {},
   "outputs": [],
   "source": [
    "fig,ax = plt.subplots(figsize=(12, 5))\n",
    "\n",
    "for i in range(shapefun.d + 1):\n",
    "    \n",
    "    if i == 0:\n",
    "        ax.plot(svec + 2, shapefun.eta[i](svec), color='C' + str(i))\n",
    "        ax.plot(svec + 4, shapefun.eta[i](svec), color='C' + str(i))\n",
    "    elif i == shapefun.d:\n",
    "        ax.plot(svec, shapefun.eta[i](svec), color='C' + str(i))\n",
    "        ax.plot(svec + 2, shapefun.eta[i](svec), color='C' + str(i))\n",
    "    else:\n",
    "        ax.plot(svec, shapefun.eta[i](svec), color='C' + str(i))\n",
    "        ax.plot(svec + 2, shapefun.eta[i](svec), color='C' + str(i))\n",
    "        ax.plot(svec + 4, shapefun.eta[i](svec), color='C' + str(i))\n",
    "    \n",
    "    \n",
    "ax.grid()\n",
    "ax.set(title='Lagrange basis functions of degree ' + str(shapefun.d))\n",
    "\n",
    "plt.show()"
   ]
  },
  {
   "cell_type": "markdown",
   "metadata": {},
   "source": [
    "## Global mass and stiffness matrices\n",
    "\n"
   ]
  },
  {
   "cell_type": "code",
   "execution_count": null,
   "metadata": {},
   "outputs": [],
   "source": [
    "el_b = np.linspace(-np.pi, np.pi, 2**4 + 1)\n",
    "# element boundaries (defining the simulation domain including the domain boundaries)\n",
    "# can be any 1D array with strictly increasing entries\n",
    "print('len(el_b) =', len(el_b))\n",
    "print()\n",
    "for i in range(len(el_b)):\n",
    "    print('el_b({0}) = {1:3.2f}'.format(i, el_b[i]))\n",
    "\n",
    "Nel = len(el_b) - 1\n",
    "print('\\nNel =', Nel)\n",
    "# number of elements\n",
    "deg = shapefun.d\n",
    "# polynomial degree\n",
    "NN = Nel*(deg + 1) - (Nel - 1)\n",
    "N0 = NN - 2 \n",
    "N1 = NN - 1\n",
    "# number of degrees of freedom (NN including the boundary)\n",
    "print('\\nNN =', NN)\n",
    "\n",
    "# mesh points"
   ]
  },
  {
   "cell_type": "markdown",
   "metadata": {},
   "source": [
    "We want to test our implementation of the mass and stiffness matrices. In order to verify the mass matrix we test the $L^2$-projection. Let $E\\in H^1_0((a,b))$ and denote by $\\Lambda^2_0: H^1_0 \\to V_0$ the $L^2$-projection on the finite dimensional subspace spanned by the basis functions $(\\varphi_j^0)_{1 \\leq j \\leq N_0}$. The $L^2$-projection is defined by\n",
    "\n",
    "$$\n",
    "\\be \\label{L2proj}\n",
    " ( \\Lambda^2_0 E - E,\\, \\varphi_j^0 )_{L^2} = 0 \\qquad \\forall\\,\\varphi_j^0\\,.\n",
    "\\ee\n",
    "$$\n",
    "\n",
    "At the same time, we have\n",
    "\n",
    "$$\n",
    "\\be\n",
    " (\\Lambda^2_0 E)(x) = \\sum_{i=1}^{N_0} e_i\\,\\varphi_i^0(x)\\,,\n",
    "\\ee\n",
    "$$\n",
    "\n",
    "where $e = (e_i)_{1\\leq i \\leq N_0} \\in \\mathbb R^{N_0}$ holds the coefficients of the projected $E$ in the given basis. Moreover, we denote the mass matrix by $M^0 \\in \\mathbb R^{N_0 \\times N_0}$ and define the vector $\\overline E = (\\overline E_j)_{1 \\leq j \\leq N_0} \\in \\mathbb R^{N_0}$ with $\\overline E_j := (E,\\,\\varphi_j^0)_{L^2}$. With this, from \\eqref{L2proj} we obtain\n",
    "\n",
    "$$\n",
    "\\ba\n",
    " &( \\Lambda^2_0 E,\\, \\varphi_j^0 )_{L^2} = ( E,\\, \\varphi_j^0 )_{L^2} \\qquad \\forall\\,\\varphi_j^0\n",
    " \\\\[1mm]\n",
    " &\\Leftrightarrow\\quad \\sum_{i=1}^{N_0} e_i \\int_a^b \\varphi_i^0 \\varphi_j^0\\,\\tn d x = \\overline E_j \\qquad \\forall\\,j   \\nonumber\n",
    " \\\\[0mm]\n",
    " &\\Leftrightarrow\\quad \\sum_{i=1}^{N_0} e_i \\, M^0_{i,j} = \\overline E_j \\qquad \\forall\\,j  \\nonumber\n",
    " \\\\[1mm]\n",
    " &\\Leftrightarrow\\quad (M^0)^\\top \\cdot e = \\overline E   \\nonumber\n",
    " \\\\[4mm]\n",
    " &\\Leftrightarrow\\quad e = (M^0)^{-1} \\cdot \\overline E \\,.  \\label{L2formula}\n",
    "\\ea\n",
    "$$\n",
    "\n",
    "To get to the last line we used that the mass matrix is symmetric. We shall compute the projection of a given function $E$ from formula \\eqref{L2formula} and then compare $||\\Lambda^2_0 E - E||_{L^2}$ for different degrees of polynomials and mesh resolution. For this we included the above assembly procedures as the function <i>fembase.lag_assemb</i> in the module _fembase.py_."
   ]
  },
  {
   "cell_type": "code",
   "execution_count": null,
   "metadata": {},
   "outputs": [],
   "source": [
    "# The function we project:\n",
    "Efun = lambda x: np.sin(x)*np.exp(x/np.pi)\n",
    "xvec = np.linspace(-np.pi, np.pi, 500)\n",
    "fig,ax = plt.subplots(figsize=(12, 5))\n",
    "ax.plot(xvec, Efun(xvec))\n",
    "ax.grid()"
   ]
  },
  {
   "cell_type": "code",
   "execution_count": null,
   "metadata": {},
   "outputs": [],
   "source": [
    "degree = 1\n",
    "shapefun = fem.LagrangeShape(np.linspace(-1, 1, degree + 1))\n",
    "# the object holding the Lagrange shape functions\n",
    "\n",
    "# loop over different number of elements (mesh resolution):\n",
    "cases = 5\n",
    "L2error = np.zeros(cases)\n",
    "Nel_vec = np.zeros(cases)\n",
    "for i in range(3, 3 + cases):\n",
    "    \n",
    "    el_b = np.linspace(-np.pi, np.pi, 2**i + 1)\n",
    "    \n",
    "    Nel, Nbase, Ebar = fem.lag_L2prod(Efun, shapefun.eta, el_b)\n",
    "    \n",
    "    Nel, Nbase, mass, stiff = fem.lag_assemb(el_b, shapefun.mass, shapefun.stiff)\n",
    "    \n",
    "    evec = np.linalg.solve(mass, Ebar)\n",
    "    testvec = np.zeros(Nbase) \n",
    "    \n",
    "    fig, ax1 = plt.subplots(figsize=(12, 5))\n",
    "    fig, ax2 = plt.subplots(figsize=(12, 5))\n",
    "\n",
    "    \n",
    "    for j in range(Nbase):   \n",
    "        testvec[:] = 0 \n",
    "        testvec[j] = 1\n",
    "        # coeficients of the projection\n",
    "\n",
    "        Nel, Nbase, basefun = fem.lag_fun(testvec, shapefun.eta, el_b)\n",
    "        \n",
    "        ax1.plot(xvec, basefun(xvec))\n",
    "        ax1.grid()\n",
    "        \n",
    "    Nel, Nbase, Eproj = fem.lag_fun(evec, shapefun.eta, el_b)\n",
    "\n",
    "    ax2.plot(xvec, Eproj(xvec))\n",
    "    ax2.grid()\n",
    "\n",
    "    ax2.plot(xvec, Efun(xvec))\n",
    "    ax2.grid()\n",
    "        \n",
    "    # L2-error:\n",
    "    Nel_vec[i - 3] = Nel\n",
    "    L2error[i - 3] = 0\n",
    "    integrand = lambda x: abs(Eproj(x) - Efun(x))**2\n",
    "    for k in range(Nel):\n",
    "        L2error[i - 3] += fixed_quad(integrand, el_b[k], el_b[k + 1])[0]\n",
    "\n",
    "    L2error[i - 3] = np.sqrt(L2error[i - 3 ]) \n",
    "    print('L2-error =', L2error[i - 3], 'degree =', degree, 'Nel =', Nel)\n",
    "    "
   ]
  },
  {
   "cell_type": "code",
   "execution_count": null,
   "metadata": {},
   "outputs": [],
   "source": [
    "fig, ax = plt.subplots(figsize=(12, 5))\n",
    "ax.loglog(Nel_vec, L2error, label='L2-error')\n",
    "ax.loglog(Nel_vec, Nel_vec**(-(degree + 1)), label='x^' + str(-degree-1))\n",
    "ax.set(title='Convergence rate of the L2-projection for degree-' + str(degree) \n",
    "       + ' elements', xlabel='Nel', ylabel='L2-error')\n",
    "ax.legend()"
   ]
  },
  {
   "cell_type": "markdown",
   "metadata": {},
   "source": [
    "As a next step we want to check the stiffness matrix by solving the 1D Poisson equation\n",
    "\n",
    "$$\n",
    "\\be \\label{Poisson}\n",
    " -\\frac{\\partial^2u}{\\partial x^2}=f\n",
    "\\ee\n",
    "$$\n",
    "\n",
    "with homogeneous Dirichlet b.c. $u(0)=u(L)=0$. After partial integration the equivalent weak formulation reads: Find $u\\in H_0^1$ such that\n",
    "\n",
    "$$\n",
    "\\be \\label{Poisson2}\n",
    " \\int_a^b\\frac{\\partial u}{\\partial x}\\frac{\\pa \\varphi}{\\pa x}\\text{d}x=\\int_a^b f\\varphi\\text{d}x, \\qquad\\forall\\varphi\\in H_0^1\n",
    "\\ee\n",
    "$$\n",
    "\n",
    "The discrete problemm is given by: Find $u_h\\in V_0^1$ such that\n",
    "\n",
    "$$\n",
    "\\ba \n",
    " &\\int_a^b\\frac{\\partial u_h}{\\partial x}\\frac{\\pa \\varphi_j}{\\pa x}\\text{d}x=\\int_a^b f\\varphi_j\\text{d}x, \\qquad\\forall\\varphi_j\\in V_0^1.\n",
    " \\\\[1mm]\n",
    " &\\Leftrightarrow\\quad \\sum_{i=1}^{N_0}u_i\\int_a^b(\\pa_x\\varphi_i^0)(\\pa_x\\varphi_j^0)\\text{d}x=\\int_a^bf\\varphi_j^0\\text{d}x,\\qquad\\forall j \\nonumber\n",
    " \\\\[1mm]\n",
    " &\\Leftrightarrow\\quad \\sum_{i=1}^{N_0} u_i \\, S^0_{i,j} = \\overline f_j \\qquad \\forall\\,j  \\nonumber\n",
    " \\\\[1mm]\n",
    " &\\Leftrightarrow\\quad (S^0)^\\top \\cdot u = \\overline f   \\nonumber\n",
    " \\\\[4mm]\n",
    " &\\Leftrightarrow\\quad u = (S^0)^{-1} \\cdot \\overline f \\,. \\label{Poisson4} \n",
    "\\ea\n",
    "$$\n",
    "\n",
    "To get to the last line we used that the stiffness matrix is symmetric. We shall compute the solution for a given function $f$ from formula \\eqref{Poisson4} and then compare $||\\Lambda^2_0 E - E||_{L^2}$ for different degrees of polynomials and mesh resolution. For this we included the above assembly procedures as the function <i>fembase.lag_assemb</i> in the module _fembase.py_."
   ]
  },
  {
   "cell_type": "code",
   "execution_count": null,
   "metadata": {},
   "outputs": [],
   "source": [
    "# The solution we want to get:\n",
    "x = sp.symbols('x')\n",
    "u = sp.sin(x)*sp.exp(x/np.pi)\n",
    "f = -sp.diff(u,x,x)\n",
    "f = sp.lambdify(x,f)\n",
    "u = sp.lambdify(x,u)\n",
    "xvec = np.linspace(-np.pi, np.pi, 500)\n",
    "fig,ax = plt.subplots(figsize=(12, 5))\n",
    "ax.plot(xvec, u(xvec), label = 'the solution u(x)')\n",
    "ax.plot(xvec, f(xvec), label = 'the right-hand side f(x)')\n",
    "ax.grid()\n",
    "ax.legend()"
   ]
  },
  {
   "cell_type": "code",
   "execution_count": null,
   "metadata": {},
   "outputs": [],
   "source": [
    "degree = 1\n",
    "shapefun = fem.LagrangeShape(np.linspace(-1, 1, degree + 1))\n",
    "# the object holding the Lagrange shape functions\n",
    "\n",
    "# loop over different number of elements (mesh resolution):\n",
    "cases = 5\n",
    "L2error = np.zeros(cases)\n",
    "Nel_vec = np.zeros(cases)\n",
    "for i in range(3, 3 + cases):\n",
    "    \n",
    "    el_b = np.linspace(-np.pi, np.pi, 2**i + 1)\n",
    "    \n",
    "    Nel, Nbase, fbar = fem.lag_L2prod(f, shapefun.eta, el_b)\n",
    "    \n",
    "    Nel, Nbase, mass, stiff = fem.lag_assemb(el_b, shapefun.mass, shapefun.stiff)\n",
    "    \n",
    "    evec = np.linalg.solve(stiff, fbar)\n",
    "    testvec = np.zeros(Nbase) \n",
    "    \n",
    "    fig, ax1 = plt.subplots(figsize=(12, 5))\n",
    "    fig, ax2 = plt.subplots(figsize=(12, 5))\n",
    "\n",
    "    \n",
    "    for j in range(Nbase):   \n",
    "        testvec[:] = 0 \n",
    "        testvec[j] = 1\n",
    "        # coeficients of the projection\n",
    "\n",
    "        Nel, Nbase, basefun = fem.lag_fun(testvec, shapefun.eta, el_b)\n",
    "        \n",
    "        ax1.plot(xvec, basefun(xvec))\n",
    "        ax1.grid()\n",
    "        \n",
    "    Nel, Nbase, uh = fem.lag_fun(evec, shapefun.eta, el_b)\n",
    "\n",
    "    ax2.plot(xvec, uh(xvec))\n",
    "    ax2.grid()\n",
    "\n",
    "    ax2.plot(xvec, u(xvec))\n",
    "    ax2.grid()\n",
    "        \n",
    "    # L2-error:\n",
    "    Nel_vec[i - 3] = Nel\n",
    "    L2error[i - 3] = 0\n",
    "    integrand = lambda x: abs(uh(x) - u(x))**2\n",
    "    for k in range(Nel):\n",
    "        L2error[i - 3] += fixed_quad(integrand, el_b[k], el_b[k + 1])[0]\n",
    "\n",
    "    L2error[i - 3] = np.sqrt(L2error[i - 3 ]) \n",
    "    print('L2-error =', L2error[i - 3], 'degree =', degree, 'Nel =', Nel)"
   ]
  },
  {
   "cell_type": "code",
   "execution_count": null,
   "metadata": {},
   "outputs": [],
   "source": [
    "fig, ax = plt.subplots(figsize=(12, 5))\n",
    "ax.loglog(Nel_vec, L2error, label='L2-error')\n",
    "ax.loglog(Nel_vec, Nel_vec**(-(degree + 1)), label='x^' + str(-degree-1))\n",
    "ax.set(title='Convergence rate of the Poisson solution for degree-' + str(degree) \n",
    "       + ' elements', xlabel='Nel', ylabel='L2-error')\n",
    "ax.legend()"
   ]
  },
  {
   "cell_type": "code",
   "execution_count": null,
   "metadata": {},
   "outputs": [],
   "source": []
  }
 ],
 "metadata": {
  "kernelspec": {
   "display_name": "Python 3",
   "language": "python",
   "name": "python3"
  },
  "language_info": {
   "codemirror_mode": {
    "name": "ipython",
    "version": 3
   },
   "file_extension": ".py",
   "mimetype": "text/x-python",
   "name": "python",
   "nbconvert_exporter": "python",
   "pygments_lexer": "ipython3",
   "version": "3.4.3"
  }
 },
 "nbformat": 4,
 "nbformat_minor": 2
}
