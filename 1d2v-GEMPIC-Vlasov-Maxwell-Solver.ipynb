{
 "cells": [
  {
   "cell_type": "markdown",
   "metadata": {},
   "source": [
    "# 1d2v Vlasov-Maxwell solver"
   ]
  },
  {
   "cell_type": "code",
   "execution_count": 1,
   "metadata": {},
   "outputs": [],
   "source": [
    "import numpy as np\n",
    "import matplotlib.pyplot as plt\n",
    "%matplotlib inline\n",
    "import fembase as fem\n",
    "import picbase as pic\n",
    "from bsplines import Bspline\n",
    "from scipy.integrate import fixed_quad\n",
    "from scipy import integrate"
   ]
  },
  {
   "cell_type": "code",
   "execution_count": 15,
   "metadata": {},
   "outputs": [
    {
     "data": {
      "image/png": "[encoded data removed]",
      "text/plain": [
       "<matplotlib.figure.Figure at 0x7fc26f5537f0>"
      ]
     },
     "metadata": {},
     "output_type": "display_data"
    },
    {
     "data": {
      "image/png": "[encoded data removed]",
      "text/plain": [
       "<matplotlib.figure.Figure at 0x7fc26f3d2ac8>"
      ]
     },
     "metadata": {},
     "output_type": "display_data"
    }
   ],
   "source": [
    "# Parameters:\n",
    "\n",
    "# wavenumber of perturbations\n",
    "k = 1.25\n",
    "\n",
    "# domain boundaries\n",
    "a_boundary = 0\n",
    "b_boundary = 2*np.pi/k\n",
    "Lx = b_boundary - a_boundary\n",
    "\n",
    "# number of elements\n",
    "Nel = 32\n",
    "el_b = np.linspace(a_boundary, b_boundary, Nel + 1)\n",
    "\n",
    "# element size\n",
    "dx = (b_boundary - a_boundary)/Nel\n",
    "\n",
    "# degree of basis functions in V0\n",
    "degree = 3\n",
    "\n",
    "# degree of B-spline smoothing kernel\n",
    "p = 3\n",
    "\n",
    "\n",
    "# number of particles for simulationi\n",
    "Np = np.int(5e4)\n",
    "\n",
    "\n",
    "\n",
    "# create and plot smoothing kernel\n",
    "a_kernel = -(p + 1)/2*dx\n",
    "b_kernel = +(p + 1)/2*dx\n",
    "nodes = np.linspace(a_kernel,b_kernel,p + 2)\n",
    "le = np.linspace(a_kernel - p*dx,a_kernel - dx,p)\n",
    "ri = np.linspace(b_kernel + dx,b_kernel + p*dx,p)\n",
    "\n",
    "T = np.array(list(le)  + list(nodes) + list(ri))\n",
    "bsp_S = Bspline(T,p)\n",
    "\n",
    "kernel = lambda x: 1/dx*bsp_S(x,p)\n",
    "    \n",
    "nx = 200\n",
    "supp = np.linspace(a_kernel,b_kernel,nx)\n",
    "y = kernel(supp)\n",
    "\n",
    "plt.plot(supp,y)\n",
    "plt.xlabel('x')\n",
    "plt.title('Smoothing kernel')\n",
    "\n",
    "\n",
    "# create Lagrange shape functions in V1 and V0 and compute global matrices M0 and M1\n",
    "shapefun = fem.LagrangeShape(np.linspace(-1, 1, degree + 1))\n",
    "Nbase_0, mass_0 = fem.lag_assemb(el_b, shapefun.mass0, shapefun.stiff0, bcs = 2)[1:3]\n",
    "Nbase_1, mass_1 = fem.lag_assemb(el_b, shapefun.mass1, shapefun.stiff1, basis = 2, bcs = 2)[1:3]\n",
    "\n",
    "\n",
    "# initialize B-field, compute initial coefficients by L2-projection on the basis and check result\n",
    "beta = 1.\n",
    "\n",
    "B_0 = lambda x: beta*np.cos(k*x)\n",
    "bbar = fem.lag_L2prod(B_0, shapefun.chi, el_b, basis = 2)[2]\n",
    "\n",
    "b = np.linalg.solve(mass_1,bbar)\n",
    "\n",
    "plt.figure()\n",
    "fun = fem.lag_fun(b, shapefun.chi, el_b, basis = 2)[2]\n",
    "x2 = np.linspace(a_boundary, b_boundary, 200)\n",
    "plt.plot(x2, fun(x2))\n",
    "plt.plot(x2, B_0(x2))\n",
    "plt.xlabel('x')\n",
    "plt.ylabel('intial B-field')\n",
    "\n",
    "# assemble gradient matrix\n",
    "grad1 = np.ones(Nbase_0)\n",
    "grad2 = -np.ones(Nbase_0 - 1)\n",
    "Grad = np.diag(grad1) + np.diag(grad2, -1)\n",
    "Grad = np.append(Grad, [np.zeros(Nbase_0)], axis = 0)\n",
    "Grad[-1, -1] = -1\n",
    "\n",
    "# initialize distribution function and define sampling distribution for initial markers\n",
    "sigma_1 = 0.02/np.sqrt(2)\n",
    "sigma_2 = np.sqrt(12)*sigma_1\n",
    "alpha = 0\n",
    "\n",
    "f0 = lambda x,vx,vy: 1/(2*np.pi*sigma_1*sigma_2)*np.exp(-1/2*(vx**2/sigma_1**2 + vy**2/sigma_2**2))*(1 + alpha*np.cos(k*x))\n",
    "g0 = lambda x,vx,vy: 1/(2*np.pi*sigma_1*sigma_2)*np.exp(-1/2*(vx**2/sigma_1**2 + vy**2/sigma_2**2))*1/Lx\n",
    "\n",
    "# create particles and compute weights\n",
    "particles = np.zeros((Np,4))\n",
    "\n",
    "particles[:, 0] = np.random.rand(Np)*Lx\n",
    "particles[:, 1] = np.random.randn(Np)*sigma_1\n",
    "particles[:, 2] = np.random.randn(Np)*sigma_2\n",
    "\n",
    "particles[:, 3] = 1/Np*f0(particles[:, 0],particles[:, 1], particles[:, 2])/g0(particles[:, 0],particles[:, 1], particles[:, 2])"
   ]
  },
  {
   "cell_type": "code",
   "execution_count": 16,
   "metadata": {},
   "outputs": [
    {
     "data": {
      "text/plain": [
       "array([-1.        , -0.33333333,  0.33333333,  1.        ])"
      ]
     },
     "execution_count": 16,
     "metadata": {},
     "output_type": "execute_result"
    }
   ],
   "source": [
    "shapefun.s"
   ]
  },
  {
   "cell_type": "code",
   "execution_count": 18,
   "metadata": {},
   "outputs": [],
   "source": [
    "d = degree\n",
    "xi = shapefun.s\n",
    "glob_xi = np.zeros(Nel*d + 1)\n",
    "# global knot vector\n",
    "    \n",
    "for ie in range(Nel):\n",
    "    for il in range(d + 1):\n",
    "            \n",
    "        i = ie*d + il\n",
    "        glob_xi[i] = el_b[ie] + (xi[il] + 1)/2*(el_b[ie + 1] - el_b[ie])"
   ]
  },
  {
   "cell_type": "code",
   "execution_count": 19,
   "metadata": {},
   "outputs": [
    {
     "data": {
      "text/plain": [
       "array([0.        , 0.05235988, 0.10471976, 0.15707963, 0.20943951,\n",
       "       0.26179939, 0.31415927, 0.36651914, 0.41887902, 0.4712389 ,\n",
       "       0.52359878, 0.57595865, 0.62831853, 0.68067841, 0.73303829,\n",
       "       0.78539816, 0.83775804, 0.89011792, 0.9424778 , 0.99483767,\n",
       "       1.04719755, 1.09955743, 1.15191731, 1.20427718, 1.25663706,\n",
       "       1.30899694, 1.36135682, 1.41371669, 1.46607657, 1.51843645,\n",
       "       1.57079633, 1.6231562 , 1.67551608, 1.72787596, 1.78023584,\n",
       "       1.83259571, 1.88495559, 1.93731547, 1.98967535, 2.04203522,\n",
       "       2.0943951 , 2.14675498, 2.19911486, 2.25147474, 2.30383461,\n",
       "       2.35619449, 2.40855437, 2.46091425, 2.51327412, 2.565634  ,\n",
       "       2.61799388, 2.67035376, 2.72271363, 2.77507351, 2.82743339,\n",
       "       2.87979327, 2.93215314, 2.98451302, 3.0368729 , 3.08923278,\n",
       "       3.14159265, 3.19395253, 3.24631241, 3.29867229, 3.35103216,\n",
       "       3.40339204, 3.45575192, 3.5081118 , 3.56047167, 3.61283155,\n",
       "       3.66519143, 3.71755131, 3.76991118, 3.82227106, 3.87463094,\n",
       "       3.92699082, 3.97935069, 4.03171057, 4.08407045, 4.13643033,\n",
       "       4.1887902 , 4.24115008, 4.29350996, 4.34586984, 4.39822972,\n",
       "       4.45058959, 4.50294947, 4.55530935, 4.60766923, 4.6600291 ,\n",
       "       4.71238898, 4.76474886, 4.81710874, 4.86946861, 4.92182849,\n",
       "       4.97418837, 5.02654826])"
      ]
     },
     "execution_count": 19,
     "metadata": {},
     "output_type": "execute_result"
    }
   ],
   "source": [
    "glob_xi"
   ]
  },
  {
   "cell_type": "code",
   "execution_count": null,
   "metadata": {},
   "outputs": [],
   "source": []
  }
 ],
 "metadata": {
  "kernelspec": {
   "display_name": "Python 3",
   "language": "python",
   "name": "python3"
  },
  "language_info": {
   "codemirror_mode": {
    "name": "ipython",
    "version": 3
   },
   "file_extension": ".py",
   "mimetype": "text/x-python",
   "name": "python",
   "nbconvert_exporter": "python",
   "pygments_lexer": "ipython3",
   "version": "3.5.2"
  }
 },
 "nbformat": 4,
 "nbformat_minor": 2
}
