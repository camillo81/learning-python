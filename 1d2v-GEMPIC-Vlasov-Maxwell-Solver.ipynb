{
 "cells": [
  {
   "cell_type": "markdown",
   "metadata": {},
   "source": [
    "# 1d2v-GEMPIC-Vlasov-Maxwell-Solver"
   ]
  },
  {
   "cell_type": "markdown",
   "metadata": {},
   "source": [
    "## Import modules"
   ]
  },
  {
   "cell_type": "code",
   "execution_count": 19,
   "metadata": {},
   "outputs": [],
   "source": [
    "import numpy as np\n",
    "import matplotlib.pyplot as plt\n",
    "%matplotlib inline\n",
    "import fembase as fem\n",
    "import picbase as pic\n",
    "from bsplines import Bspline\n",
    "from scipy.integrate import fixed_quad\n",
    "from scipy import integrate"
   ]
  },
  {
   "cell_type": "markdown",
   "metadata": {},
   "source": [
    "## Simulation parameters"
   ]
  },
  {
   "cell_type": "code",
   "execution_count": 77,
   "metadata": {},
   "outputs": [],
   "source": [
    "# wavenumber of perturbations\n",
    "k = 1.25\n",
    "\n",
    "# boundaries and lenght of domain\n",
    "a_boundary = 0\n",
    "b_boundary = 2*np.pi/k\n",
    "Lx = b_boundary - a_boundary\n",
    "\n",
    "# number of elements and element boundaries\n",
    "Nel = 16\n",
    "el_b = np.linspace(a_boundary, b_boundary, Nel + 1)\n",
    "\n",
    "# element size\n",
    "dx = (b_boundary - a_boundary)/Nel\n",
    "\n",
    "# degree of basis functions in V0\n",
    "degree = 3\n",
    "\n",
    "# degree and width of B-spline smoothing kernel\n",
    "p = 3\n",
    "Swidth = 0.6\n",
    "dx_S = Swidth/(p + 1)\n",
    "\n",
    "\n",
    "# number of particles for simulation\n",
    "Np = np.int(5e4)"
   ]
  },
  {
   "cell_type": "code",
   "execution_count": 78,
   "metadata": {},
   "outputs": [
    {
     "data": {
      "image/png": "[encoded data removed]",
      "text/plain": [
       "<matplotlib.figure.Figure at 0x7f611530b8d0>"
      ]
     },
     "metadata": {},
     "output_type": "display_data"
    }
   ],
   "source": [
    "# create and plot smoothing kernel\n",
    "a_kernel = -(p + 1)/2*dx_S\n",
    "b_kernel = +(p + 1)/2*dx_S\n",
    "nodes = np.linspace(a_kernel,b_kernel,p + 2)\n",
    "le = np.linspace(a_kernel - p*dx_S,a_kernel - dx_S,p)\n",
    "ri = np.linspace(b_kernel + dx_S,b_kernel + p*dx_S,p)\n",
    "\n",
    "T = np.array(list(le)  + list(nodes) + list(ri))\n",
    "bsp_S = Bspline(T,p)\n",
    "\n",
    "\n",
    "def kernel(x,length = 2):\n",
    "       \n",
    "    if length == 2:\n",
    "        values = np.zeros(len(x))\n",
    "        \n",
    "        for i in range(len(x)):\n",
    "            if np.abs(x[i]) >= Swidth/2:\n",
    "                values[i] = 0.\n",
    "        \n",
    "            else:\n",
    "                values[i] =  1/dx_S*bsp_S(x[i],p)\n",
    "        return values\n",
    "            \n",
    "    if length == 1:\n",
    "        if np.abs(x) >= Swidth/2:\n",
    "            return 0.\n",
    "        \n",
    "        else:\n",
    "            return 1/dx_S*bsp_S(x,p)\n",
    "        \n",
    "        \n",
    "nx = 200\n",
    "supp = np.linspace(a_kernel,b_kernel,nx)\n",
    "y = kernel(supp)\n",
    "\n",
    "f1 = plt.figure()\n",
    "f1.set_figheight(3)\n",
    "f1.set_figwidth(10)\n",
    "\n",
    "plt.subplot(121)\n",
    "plt.plot(supp,y)\n",
    "plt.xlabel('x')\n",
    "plt.title('Smoothing kernel')\n",
    "\n",
    "\n",
    "# create Lagrange shape functions in V1 and V0 and compute global matrices M0 and M1\n",
    "shapefun = fem.LagrangeShape(np.linspace(-1, 1, degree + 1))\n",
    "Nbase_0, mass_0 = fem.lag_assemb(el_b, shapefun.mass0, shapefun.stiff0, bcs = 2)[1:3]\n",
    "Nbase_1, mass_1 = fem.lag_assemb(el_b, shapefun.mass1, shapefun.stiff1, basis = 2, bcs = 2)[1:3]\n",
    "\n",
    "\n",
    "# initialize B-field, compute initial coefficients by L2-projection on the basis and check result\n",
    "beta = 1.\n",
    "\n",
    "B_0 = lambda x: beta*np.cos(k*x)\n",
    "bbar = fem.lag_L2prod(B_0, shapefun.chi, el_b, basis = 2)[2]\n",
    "\n",
    "b = np.linalg.solve(mass_1,bbar)\n",
    "\n",
    "\n",
    "fun = fem.lag_fun(b, shapefun.chi, el_b, basis = 2)[2]\n",
    "x2 = np.linspace(a_boundary, b_boundary, 200)\n",
    "\n",
    "plt.subplot(122)\n",
    "plt.plot(x2, fun(x2), label = 'projected')\n",
    "plt.plot(x2, B_0(x2), 'k--', label = 'exact')\n",
    "plt.xlabel('x')\n",
    "plt.title('Initial-Bfield')\n",
    "plt.legend()\n",
    "\n",
    "# assemble gradient matrix\n",
    "grad1 = np.ones(Nbase_0)\n",
    "grad2 = -np.ones(Nbase_0 - 1)\n",
    "Grad = np.diag(grad1) + np.diag(grad2, -1)\n",
    "Grad = np.append(Grad, [np.zeros(Nbase_0)], axis = 0)\n",
    "Grad[-1, -1] = -1\n",
    "\n",
    "# initialize distribution function and define sampling distribution for initial markers\n",
    "sigma_1 = 0.02/np.sqrt(2)\n",
    "sigma_2 = np.sqrt(12)*sigma_1\n",
    "alpha = 0\n",
    "\n",
    "f0 = lambda x,vx,vy: 1/(2*np.pi*sigma_1*sigma_2)*np.exp(-1/2*(vx**2/sigma_1**2 + vy**2/sigma_2**2))*(1 + alpha*np.cos(k*x))\n",
    "g0 = lambda x,vx,vy: 1/(2*np.pi*sigma_1*sigma_2)*np.exp(-1/2*(vx**2/sigma_1**2 + vy**2/sigma_2**2))*1/Lx\n",
    "\n",
    "\n",
    "\n",
    "# create particles and compute weights\n",
    "particles = np.zeros((Np,4))\n",
    "\n",
    "particles[:, 0] = np.random.rand(Np)*Lx\n",
    "particles[:, 1] = np.random.randn(Np)*sigma_1\n",
    "particles[:, 2] = np.random.randn(Np)*sigma_2\n",
    "\n",
    "particles[:, 3] = 1/Np*f0(particles[:, 0],particles[:, 1], particles[:, 2])/g0(particles[:, 0],particles[:, 1], particles[:, 2])"
   ]
  },
  {
   "cell_type": "code",
   "execution_count": 79,
   "metadata": {},
   "outputs": [
    {
     "name": "stdout",
     "output_type": "stream",
     "text": [
      "0\n",
      "1\n",
      "2\n",
      "3\n",
      "4\n",
      "5\n",
      "6\n",
      "7\n",
      "8\n",
      "9\n",
      "10\n",
      "11\n",
      "12\n",
      "13\n",
      "14\n",
      "15\n",
      "16\n",
      "17\n",
      "18\n",
      "19\n",
      "20\n",
      "21\n",
      "22\n",
      "23\n",
      "24\n",
      "25\n",
      "26\n",
      "27\n",
      "28\n",
      "29\n",
      "30\n",
      "31\n",
      "32\n",
      "33\n",
      "34\n",
      "35\n",
      "36\n",
      "37\n",
      "38\n",
      "39\n",
      "40\n",
      "41\n",
      "42\n",
      "43\n",
      "44\n",
      "45\n",
      "46\n",
      "47\n"
     ]
    }
   ],
   "source": [
    "Nknots = Nel*degree + 1\n",
    "glob_s = np.zeros(Nknots)\n",
    "s = shapefun.s\n",
    "rho = np.zeros(Nel*degree)\n",
    "q = -1\n",
    "\n",
    "for ie in range(Nel):\n",
    "    for il in range(degree + 1):\n",
    "            \n",
    "        i = ie*degree + il\n",
    "        glob_s[i] = el_b[ie] + (s[il] + 1)/2*(el_b[ie + 1] - el_b[ie])\n",
    "        # assemble global knot vector\n",
    "\n",
    "for i in range(Nel*degree):\n",
    "    print(i)\n",
    "    for j in range(Np):   \n",
    "        fun2 = lambda x: kernel(particles[j,0] - x,1)\n",
    "        rho[i] += 2*q/dx*particles[j,3]*integrate.quad(fun2,glob_s[i],glob_s[i+1])[0]"
   ]
  },
  {
   "cell_type": "code",
   "execution_count": 80,
   "metadata": {},
   "outputs": [],
   "source": [
    "fun = fem.lag_fun(rho, shapefun.chi, el_b, basis = 2)[2]"
   ]
  },
  {
   "cell_type": "code",
   "execution_count": 81,
   "metadata": {},
   "outputs": [
    {
     "data": {
      "text/plain": [
       "[<matplotlib.lines.Line2D at 0x7f614430d908>]"
      ]
     },
     "execution_count": 81,
     "metadata": {},
     "output_type": "execute_result"
    },
    {
     "data": {
      "image/png": "[encoded data removed]",
      "text/plain": [
       "<matplotlib.figure.Figure at 0x7f611522cb00>"
      ]
     },
     "metadata": {},
     "output_type": "display_data"
    }
   ],
   "source": [
    "plt.plot(x2,fun(x2))"
   ]
  },
  {
   "cell_type": "code",
   "execution_count": 82,
   "metadata": {},
   "outputs": [
    {
     "data": {
      "text/plain": [
       "array([-0.46295822, -0.63660682, -0.68197348, -0.68329985, -0.67327872,\n",
       "       -0.67165984, -0.67566871, -0.67371634, -0.66260411, -0.65884882,\n",
       "       -0.66560144, -0.66396956, -0.6548272 , -0.65321839, -0.65049517,\n",
       "       -0.65730809, -0.67011513, -0.67166698, -0.66364528, -0.66072872,\n",
       "       -0.66810092, -0.67710766, -0.66787856, -0.64964247, -0.64363027,\n",
       "       -0.65237696, -0.65912693, -0.66111375, -0.67248719, -0.67392597,\n",
       "       -0.67389331, -0.68093354, -0.67234518, -0.65446628, -0.65085125,\n",
       "       -0.65712153, -0.65963465, -0.65830574, -0.65465061, -0.6621516 ,\n",
       "       -0.67929954, -0.68438212, -0.68056307, -0.6808956 , -0.67808967,\n",
       "       -0.6767328 , -0.64962426, -0.48299721])"
      ]
     },
     "execution_count": 82,
     "metadata": {},
     "output_type": "execute_result"
    }
   ],
   "source": [
    "rho"
   ]
  },
  {
   "cell_type": "code",
   "execution_count": 60,
   "metadata": {},
   "outputs": [
    {
     "data": {
      "text/plain": [
       "False"
      ]
     },
     "execution_count": 60,
     "metadata": {},
     "output_type": "execute_result"
    }
   ],
   "source": [
    "all(x2 > 0.5)"
   ]
  },
  {
   "cell_type": "code",
   "execution_count": 63,
   "metadata": {},
   "outputs": [],
   "source": [
    "test = 2."
   ]
  },
  {
   "cell_type": "code",
   "execution_count": 64,
   "metadata": {},
   "outputs": [
    {
     "ename": "AttributeError",
     "evalue": "'float' object has no attribute 'size'",
     "output_type": "error",
     "traceback": [
      "\u001b[0;31m---------------------------------------------------------------------------\u001b[0m",
      "\u001b[0;31mAttributeError\u001b[0m                            Traceback (most recent call last)",
      "\u001b[0;32m<ipython-input-64-5ebfb5a7f131>\u001b[0m in \u001b[0;36m<module>\u001b[0;34m()\u001b[0m\n\u001b[0;32m----> 1\u001b[0;31m \u001b[0mtest\u001b[0m\u001b[0;34m.\u001b[0m\u001b[0msize\u001b[0m\u001b[0;34m\u001b[0m\u001b[0m\n\u001b[0m",
      "\u001b[0;31mAttributeError\u001b[0m: 'float' object has no attribute 'size'"
     ]
    }
   ],
   "source": [
    "test.size"
   ]
  },
  {
   "cell_type": "code",
   "execution_count": null,
   "metadata": {},
   "outputs": [],
   "source": []
  }
 ],
 "metadata": {
  "kernelspec": {
   "display_name": "Python 3",
   "language": "python",
   "name": "python3"
  },
  "language_info": {
   "codemirror_mode": {
    "name": "ipython",
    "version": 3
   },
   "file_extension": ".py",
   "mimetype": "text/x-python",
   "name": "python",
   "nbconvert_exporter": "python",
   "pygments_lexer": "ipython3",
   "version": "3.5.2"
  }
 },
 "nbformat": 4,
 "nbformat_minor": 2
}
